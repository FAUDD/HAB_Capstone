{
 "cells": [
  {
   "cell_type": "markdown",
   "metadata": {},
   "source": [
    "# HAB Capstone Wrangling 2 - GLERL Data"
   ]
  },
  {
   "cell_type": "markdown",
   "metadata": {},
   "source": [
    "The Great Lakes Environmental Research Laboratory (GLERL) and the Cooperative Institute for Great Lakes Research collect water quality data in western Lake Erie in order to monitor the potential for Harmful Algal Blooms (HAB). Lake Erie is the shallowest of the Great Lakes, so it tends to reach higher temperatures, and runoff or river deposition of chemicals such as nitrogen- and phosphorus-containing compounds has a greater impact on its water quality. Warm temperatures, nitrogen, and phosphorus are favorable conditions for the growth of phytoplankton, algae, and cyanobacteria. Although not all algae are problematic, HABs have detrimental effects due to the toxins that they release, of which the most common is microcystin. Beginning in 2012 GLERL began weekly sampling trips to collect water quality data, including microcystin levels, before, during, and after HAB events. Some of these collections were performed by boat or automated, movable buoys. Moored buoy station locations were eventually established starting in 2014. The original data can be accessed through NOAA's National Centers for Environmental Information Database <a href='https://data.nodc.noaa.gov/cgi-bin/iso?id=gov.noaa.nodc:GLERL-CIGLR-HAB-LakeErie-water-qual'>here</a>."
   ]
  },
  {
   "cell_type": "code",
   "execution_count": 1,
   "metadata": {},
   "outputs": [],
   "source": [
    "import folium\n",
    "import matplotlib.pyplot as plt\n",
    "import matplotlib.style\n",
    "import numpy as np\n",
    "import pandas as pd\n",
    "import seaborn"
   ]
  },
  {
   "cell_type": "markdown",
   "metadata": {},
   "source": [
    "The raw data has already been cleaned and the data from 2012-2018 merged with the data from 2019 (see HAB_Capstone_Data_Wrangling.ipynb). Outliers were examined and determined to likely be good data in that document, since the nature of algal blooms is that environmental factors result in extreme events over possibly short periods of time and spatial extents."
   ]
  },
  {
   "cell_type": "code",
   "execution_count": 2,
   "metadata": {
    "scrolled": true
   },
   "outputs": [
    {
     "name": "stdout",
     "output_type": "stream",
     "text": [
      "<class 'pandas.core.frame.DataFrame'>\n",
      "Int64Index: 1427 entries, 0 to 1462\n",
      "Data columns (total 33 columns):\n",
      " #   Column                                                         Non-Null Count  Dtype         \n",
      "---  ------                                                         --------------  -----         \n",
      " 0   Date                                                           1427 non-null   datetime64[ns]\n",
      " 1   Site                                                           1427 non-null   object        \n",
      " 2   Station Depth (m)                                              990 non-null    float64       \n",
      " 3   Sample Depth (m)                                               1410 non-null   float64       \n",
      " 4   Sample Depth (category)                                        1427 non-null   object        \n",
      " 5   Local Time (Eastern Time Zone)                                 1000 non-null   object        \n",
      " 6   Latitude (decimal deg)                                         1427 non-null   float64       \n",
      " 7   Longitude (decimal deg)                                        1427 non-null   float64       \n",
      " 8   Wind speed (knots)                                             703 non-null    float64       \n",
      " 9   Wave Height (ft)                                               695 non-null    float64       \n",
      " 10  Sky                                                            984 non-null    object        \n",
      " 11  Secchi Depth (m)                                               954 non-null    float64       \n",
      " 12  CTD Temperature (°C)                                           1286 non-null   float64       \n",
      " 13  CTD Specific Conductivity (µS/cm)                              1289 non-null   float64       \n",
      " 14  CTD Beam Attenuation (m-1)                                     1271 non-null   float64       \n",
      " 15  CTD Tramission (%)                                             1271 non-null   float64       \n",
      " 16  CTD Dissolved Oxygen (mg/L)                                    1289 non-null   float64       \n",
      " 17  CTD Photosynthetically Active Radiation (µE/m2/s)              1288 non-null   float64       \n",
      " 18  Turbidity (NTU)                                                937 non-null    float64       \n",
      " 19  Particulate Microcystin (µg/L)                                 1402 non-null   float64       \n",
      " 20  Dissolved Microcystin (µg/L)                                   1171 non-null   float64       \n",
      " 21  Extracted Phycocyanin (µg/L)                                   1408 non-null   float64       \n",
      " 22  Extracted Chlorophyll a (µg/L)                                 1418 non-null   float64       \n",
      " 23  Total Phosphorus (µg P/L)                                      989 non-null    float64       \n",
      " 24  Total Dissolved Phosphorus (µg P/L)                            991 non-null    float64       \n",
      " 25  Soluble Reactive Phosphorus (µg P/L)                           985 non-null    float64       \n",
      " 26  Ammonia (µg N/L)                                               986 non-null    float64       \n",
      " 27  Nitrate + Nitrite (mg N/L)                                     985 non-null    float64       \n",
      " 28  Particulate Organic Carbon (mg/L)                              989 non-null    float64       \n",
      " 29  Particulate Organic Nitrogen (mg/L)                            989 non-null    float64       \n",
      " 30  Colored Dissolved Organic Material absorbance (m-1) at 400nm   793 non-null    float64       \n",
      " 31  Total Suspended Solids (mg/L)                                  976 non-null    float64       \n",
      " 32  Volatile Suspended Solids (mg/L)                               977 non-null    float64       \n",
      "dtypes: datetime64[ns](1), float64(28), object(4)\n",
      "memory usage: 379.0+ KB\n"
     ]
    }
   ],
   "source": [
    "df_glerl = pd.read_csv('../data/interim/glerl_merged.csv', parse_dates=['Date'], index_col=0)\n",
    "df_glerl.info()"
   ]
  },
  {
   "cell_type": "markdown",
   "metadata": {},
   "source": [
    "## Categorical Variables\n",
    "### Sites"
   ]
  },
  {
   "cell_type": "code",
   "execution_count": 3,
   "metadata": {
    "scrolled": true
   },
   "outputs": [
    {
     "data": {
      "text/plain": [
       "WE2           241\n",
       "WE8           241\n",
       "WE13          217\n",
       "WE12          208\n",
       "WE6           160\n",
       "WE4           151\n",
       "WE9            80\n",
       "WE15           51\n",
       "WE16           31\n",
       "WE14           15\n",
       "WE 2013.4       1\n",
       "WE 2013.6       1\n",
       "1-Aug           1\n",
       "WE 2013.12      1\n",
       "WE 2012.2       1\n",
       "WE 2013.3       1\n",
       "WE 2013.8       1\n",
       "2019.1          1\n",
       "WE 2013.19      1\n",
       "WE 2012.1       1\n",
       "WE 2013.7       1\n",
       "WE 2013.9       1\n",
       "WE 2013.14      1\n",
       "WE 2013.2       1\n",
       "WE 2012.6       1\n",
       "WE 2012.3       1\n",
       "WE 2013.1       1\n",
       "WE 2013.11      1\n",
       "2017.3          1\n",
       "WE 2012.5       1\n",
       "2-Aug           1\n",
       "WE 2013.10      1\n",
       "WE 2013.16      1\n",
       "2019.2          1\n",
       "WE 2012.4       1\n",
       "WE 2012.7       1\n",
       "2017.1          1\n",
       "WE 2013.18      1\n",
       "WE 2013.5       1\n",
       "WE 2013.15      1\n",
       "2017.2          1\n",
       "WE 2013.17      1\n",
       "Name: Site, dtype: int64"
      ]
     },
     "execution_count": 3,
     "metadata": {},
     "output_type": "execute_result"
    }
   ],
   "source": [
    "df_glerl['Site'].value_counts()"
   ]
  },
  {
   "cell_type": "markdown",
   "metadata": {},
   "source": [
    "The stations with WE# names are known water quality stations, some of which are still active and can be found at the Great Lakes Observing System website <a html='https://glbuoys.glos.us/erie'>here</a>. The remaining 'sites' are likely entry errors involving the date."
   ]
  },
  {
   "cell_type": "code",
   "execution_count": 4,
   "metadata": {
    "scrolled": true
   },
   "outputs": [
    {
     "data": {
      "text/html": [
       "<div>\n",
       "<style scoped>\n",
       "    .dataframe tbody tr th:only-of-type {\n",
       "        vertical-align: middle;\n",
       "    }\n",
       "\n",
       "    .dataframe tbody tr th {\n",
       "        vertical-align: top;\n",
       "    }\n",
       "\n",
       "    .dataframe thead th {\n",
       "        text-align: right;\n",
       "    }\n",
       "</style>\n",
       "<table border=\"1\" class=\"dataframe\">\n",
       "  <thead>\n",
       "    <tr style=\"text-align: right;\">\n",
       "      <th></th>\n",
       "      <th>Date</th>\n",
       "      <th>Site</th>\n",
       "      <th>Station Depth (m)</th>\n",
       "      <th>Sample Depth (m)</th>\n",
       "      <th>Sample Depth (category)</th>\n",
       "      <th>Local Time (Eastern Time Zone)</th>\n",
       "      <th>Latitude (decimal deg)</th>\n",
       "      <th>Longitude (decimal deg)</th>\n",
       "      <th>Wind speed (knots)</th>\n",
       "      <th>Wave Height (ft)</th>\n",
       "      <th>...</th>\n",
       "      <th>Total Phosphorus (µg P/L)</th>\n",
       "      <th>Total Dissolved Phosphorus (µg P/L)</th>\n",
       "      <th>Soluble Reactive Phosphorus (µg P/L)</th>\n",
       "      <th>Ammonia (µg N/L)</th>\n",
       "      <th>Nitrate + Nitrite (mg N/L)</th>\n",
       "      <th>Particulate Organic Carbon (mg/L)</th>\n",
       "      <th>Particulate Organic Nitrogen (mg/L)</th>\n",
       "      <th>Colored Dissolved Organic Material absorbance (m-1) at 400nm</th>\n",
       "      <th>Total Suspended Solids (mg/L)</th>\n",
       "      <th>Volatile Suspended Solids (mg/L)</th>\n",
       "    </tr>\n",
       "  </thead>\n",
       "  <tbody>\n",
       "    <tr>\n",
       "      <th>118</th>\n",
       "      <td>2019-08-05</td>\n",
       "      <td>2019.1</td>\n",
       "      <td>NaN</td>\n",
       "      <td>0.00</td>\n",
       "      <td>Scum</td>\n",
       "      <td>12:14</td>\n",
       "      <td>41.7075</td>\n",
       "      <td>-83.3761</td>\n",
       "      <td>NaN</td>\n",
       "      <td>NaN</td>\n",
       "      <td>...</td>\n",
       "      <td>NaN</td>\n",
       "      <td>NaN</td>\n",
       "      <td>NaN</td>\n",
       "      <td>NaN</td>\n",
       "      <td>NaN</td>\n",
       "      <td>NaN</td>\n",
       "      <td>NaN</td>\n",
       "      <td>NaN</td>\n",
       "      <td>NaN</td>\n",
       "      <td>NaN</td>\n",
       "    </tr>\n",
       "    <tr>\n",
       "      <th>145</th>\n",
       "      <td>2019-08-19</td>\n",
       "      <td>2019.2</td>\n",
       "      <td>NaN</td>\n",
       "      <td>0.00</td>\n",
       "      <td>Scum</td>\n",
       "      <td>12:40</td>\n",
       "      <td>41.7395</td>\n",
       "      <td>-83.3711</td>\n",
       "      <td>NaN</td>\n",
       "      <td>NaN</td>\n",
       "      <td>...</td>\n",
       "      <td>NaN</td>\n",
       "      <td>NaN</td>\n",
       "      <td>NaN</td>\n",
       "      <td>NaN</td>\n",
       "      <td>NaN</td>\n",
       "      <td>NaN</td>\n",
       "      <td>NaN</td>\n",
       "      <td>NaN</td>\n",
       "      <td>NaN</td>\n",
       "      <td>NaN</td>\n",
       "    </tr>\n",
       "    <tr>\n",
       "      <th>246</th>\n",
       "      <td>2012-07-31</td>\n",
       "      <td>WE 2012.1</td>\n",
       "      <td>3.1</td>\n",
       "      <td>0.75</td>\n",
       "      <td>Surface</td>\n",
       "      <td>13:20</td>\n",
       "      <td>41.6315</td>\n",
       "      <td>-83.1521</td>\n",
       "      <td>NaN</td>\n",
       "      <td>NaN</td>\n",
       "      <td>...</td>\n",
       "      <td>20.94</td>\n",
       "      <td>4.36</td>\n",
       "      <td>0.25</td>\n",
       "      <td>0.04</td>\n",
       "      <td>0.389</td>\n",
       "      <td>1.07</td>\n",
       "      <td>0.15</td>\n",
       "      <td>NaN</td>\n",
       "      <td>NaN</td>\n",
       "      <td>NaN</td>\n",
       "    </tr>\n",
       "    <tr>\n",
       "      <th>247</th>\n",
       "      <td>2012-07-31</td>\n",
       "      <td>WE 2012.2</td>\n",
       "      <td>9.0</td>\n",
       "      <td>0.75</td>\n",
       "      <td>Surface</td>\n",
       "      <td>13:50</td>\n",
       "      <td>41.7394</td>\n",
       "      <td>-83.1144</td>\n",
       "      <td>NaN</td>\n",
       "      <td>NaN</td>\n",
       "      <td>...</td>\n",
       "      <td>30.41</td>\n",
       "      <td>10.61</td>\n",
       "      <td>3.22</td>\n",
       "      <td>0.04</td>\n",
       "      <td>0.405</td>\n",
       "      <td>0.82</td>\n",
       "      <td>0.16</td>\n",
       "      <td>NaN</td>\n",
       "      <td>NaN</td>\n",
       "      <td>NaN</td>\n",
       "    </tr>\n",
       "    <tr>\n",
       "      <th>248</th>\n",
       "      <td>2012-07-31</td>\n",
       "      <td>WE 2012.3</td>\n",
       "      <td>8.4</td>\n",
       "      <td>0.75</td>\n",
       "      <td>Surface</td>\n",
       "      <td>14:12</td>\n",
       "      <td>41.7960</td>\n",
       "      <td>-83.1675</td>\n",
       "      <td>NaN</td>\n",
       "      <td>NaN</td>\n",
       "      <td>...</td>\n",
       "      <td>NaN</td>\n",
       "      <td>4.25</td>\n",
       "      <td>0.25</td>\n",
       "      <td>0.04</td>\n",
       "      <td>0.405</td>\n",
       "      <td>1.19</td>\n",
       "      <td>0.18</td>\n",
       "      <td>NaN</td>\n",
       "      <td>NaN</td>\n",
       "      <td>NaN</td>\n",
       "    </tr>\n",
       "    <tr>\n",
       "      <th>253</th>\n",
       "      <td>2012-08-06</td>\n",
       "      <td>WE 2012.4</td>\n",
       "      <td>5.8</td>\n",
       "      <td>0.75</td>\n",
       "      <td>Surface</td>\n",
       "      <td>10:25</td>\n",
       "      <td>41.8361</td>\n",
       "      <td>-83.3373</td>\n",
       "      <td>NaN</td>\n",
       "      <td>NaN</td>\n",
       "      <td>...</td>\n",
       "      <td>60.64</td>\n",
       "      <td>7.52</td>\n",
       "      <td>0.44</td>\n",
       "      <td>0.23</td>\n",
       "      <td>0.434</td>\n",
       "      <td>3.81</td>\n",
       "      <td>0.81</td>\n",
       "      <td>NaN</td>\n",
       "      <td>NaN</td>\n",
       "      <td>NaN</td>\n",
       "    </tr>\n",
       "    <tr>\n",
       "      <th>262</th>\n",
       "      <td>2012-08-20</td>\n",
       "      <td>WE 2012.5</td>\n",
       "      <td>2.8</td>\n",
       "      <td>0.75</td>\n",
       "      <td>Surface</td>\n",
       "      <td>11:50</td>\n",
       "      <td>41.7039</td>\n",
       "      <td>-83.3860</td>\n",
       "      <td>NaN</td>\n",
       "      <td>NaN</td>\n",
       "      <td>...</td>\n",
       "      <td>84.18</td>\n",
       "      <td>14.60</td>\n",
       "      <td>0.92</td>\n",
       "      <td>3.47</td>\n",
       "      <td>0.123</td>\n",
       "      <td>4.84</td>\n",
       "      <td>0.94</td>\n",
       "      <td>NaN</td>\n",
       "      <td>NaN</td>\n",
       "      <td>NaN</td>\n",
       "    </tr>\n",
       "    <tr>\n",
       "      <th>271</th>\n",
       "      <td>2012-09-05</td>\n",
       "      <td>WE 2012.6</td>\n",
       "      <td>5.5</td>\n",
       "      <td>0.75</td>\n",
       "      <td>Surface</td>\n",
       "      <td>11:00</td>\n",
       "      <td>41.4833</td>\n",
       "      <td>-82.6983</td>\n",
       "      <td>NaN</td>\n",
       "      <td>NaN</td>\n",
       "      <td>...</td>\n",
       "      <td>99.69</td>\n",
       "      <td>25.54</td>\n",
       "      <td>16.58</td>\n",
       "      <td>0.82</td>\n",
       "      <td>0.002</td>\n",
       "      <td>3.46</td>\n",
       "      <td>0.61</td>\n",
       "      <td>NaN</td>\n",
       "      <td>NaN</td>\n",
       "      <td>NaN</td>\n",
       "    </tr>\n",
       "    <tr>\n",
       "      <th>272</th>\n",
       "      <td>2012-09-05</td>\n",
       "      <td>WE 2012.7</td>\n",
       "      <td>5.0</td>\n",
       "      <td>0.75</td>\n",
       "      <td>Surface</td>\n",
       "      <td>11:54</td>\n",
       "      <td>41.5606</td>\n",
       "      <td>-82.9072</td>\n",
       "      <td>NaN</td>\n",
       "      <td>NaN</td>\n",
       "      <td>...</td>\n",
       "      <td>23.41</td>\n",
       "      <td>13.04</td>\n",
       "      <td>7.69</td>\n",
       "      <td>6.66</td>\n",
       "      <td>0.005</td>\n",
       "      <td>0.65</td>\n",
       "      <td>0.14</td>\n",
       "      <td>NaN</td>\n",
       "      <td>NaN</td>\n",
       "      <td>NaN</td>\n",
       "    </tr>\n",
       "    <tr>\n",
       "      <th>309</th>\n",
       "      <td>2013-07-15</td>\n",
       "      <td>WE 2013.1</td>\n",
       "      <td>5.9</td>\n",
       "      <td>0.75</td>\n",
       "      <td>Surface</td>\n",
       "      <td>11:57</td>\n",
       "      <td>41.8330</td>\n",
       "      <td>-83.3220</td>\n",
       "      <td>NaN</td>\n",
       "      <td>NaN</td>\n",
       "      <td>...</td>\n",
       "      <td>161.79</td>\n",
       "      <td>10.86</td>\n",
       "      <td>1.87</td>\n",
       "      <td>1.73</td>\n",
       "      <td>2.139</td>\n",
       "      <td>11.15</td>\n",
       "      <td>1.98</td>\n",
       "      <td>NaN</td>\n",
       "      <td>24.60</td>\n",
       "      <td>21.18</td>\n",
       "    </tr>\n",
       "    <tr>\n",
       "      <th>313</th>\n",
       "      <td>2013-07-17</td>\n",
       "      <td>WE 2013.2</td>\n",
       "      <td>4.9</td>\n",
       "      <td>0.75</td>\n",
       "      <td>Surface</td>\n",
       "      <td>10:55</td>\n",
       "      <td>41.8356</td>\n",
       "      <td>-83.3441</td>\n",
       "      <td>NaN</td>\n",
       "      <td>NaN</td>\n",
       "      <td>...</td>\n",
       "      <td>NaN</td>\n",
       "      <td>NaN</td>\n",
       "      <td>NaN</td>\n",
       "      <td>NaN</td>\n",
       "      <td>NaN</td>\n",
       "      <td>NaN</td>\n",
       "      <td>NaN</td>\n",
       "      <td>NaN</td>\n",
       "      <td>14.10</td>\n",
       "      <td>9.58</td>\n",
       "    </tr>\n",
       "    <tr>\n",
       "      <th>323</th>\n",
       "      <td>2013-07-30</td>\n",
       "      <td>WE 2013.3</td>\n",
       "      <td>NaN</td>\n",
       "      <td>0.75</td>\n",
       "      <td>Surface</td>\n",
       "      <td>NaN</td>\n",
       "      <td>41.8261</td>\n",
       "      <td>-83.3837</td>\n",
       "      <td>NaN</td>\n",
       "      <td>NaN</td>\n",
       "      <td>...</td>\n",
       "      <td>NaN</td>\n",
       "      <td>NaN</td>\n",
       "      <td>NaN</td>\n",
       "      <td>NaN</td>\n",
       "      <td>NaN</td>\n",
       "      <td>NaN</td>\n",
       "      <td>NaN</td>\n",
       "      <td>NaN</td>\n",
       "      <td>NaN</td>\n",
       "      <td>NaN</td>\n",
       "    </tr>\n",
       "    <tr>\n",
       "      <th>324</th>\n",
       "      <td>2013-08-02</td>\n",
       "      <td>WE 2013.4</td>\n",
       "      <td>5.9</td>\n",
       "      <td>0.75</td>\n",
       "      <td>Surface</td>\n",
       "      <td>9:32</td>\n",
       "      <td>41.8660</td>\n",
       "      <td>-83.3003</td>\n",
       "      <td>NaN</td>\n",
       "      <td>NaN</td>\n",
       "      <td>...</td>\n",
       "      <td>38.79</td>\n",
       "      <td>11.02</td>\n",
       "      <td>3.33</td>\n",
       "      <td>6.81</td>\n",
       "      <td>1.798</td>\n",
       "      <td>1.67</td>\n",
       "      <td>0.29</td>\n",
       "      <td>NaN</td>\n",
       "      <td>70.60</td>\n",
       "      <td>39.30</td>\n",
       "    </tr>\n",
       "    <tr>\n",
       "      <th>329</th>\n",
       "      <td>2013-08-05</td>\n",
       "      <td>WE 2013.5</td>\n",
       "      <td>4.8</td>\n",
       "      <td>0.75</td>\n",
       "      <td>Surface</td>\n",
       "      <td>11:54</td>\n",
       "      <td>41.7171</td>\n",
       "      <td>-83.3041</td>\n",
       "      <td>NaN</td>\n",
       "      <td>NaN</td>\n",
       "      <td>...</td>\n",
       "      <td>61.50</td>\n",
       "      <td>10.29</td>\n",
       "      <td>1.08</td>\n",
       "      <td>3.13</td>\n",
       "      <td>2.089</td>\n",
       "      <td>3.97</td>\n",
       "      <td>0.65</td>\n",
       "      <td>NaN</td>\n",
       "      <td>12.27</td>\n",
       "      <td>8.78</td>\n",
       "    </tr>\n",
       "    <tr>\n",
       "      <th>330</th>\n",
       "      <td>2013-08-05</td>\n",
       "      <td>WE 2013.6</td>\n",
       "      <td>4.0</td>\n",
       "      <td>0.75</td>\n",
       "      <td>Surface</td>\n",
       "      <td>13:15</td>\n",
       "      <td>41.9272</td>\n",
       "      <td>-83.3097</td>\n",
       "      <td>NaN</td>\n",
       "      <td>NaN</td>\n",
       "      <td>...</td>\n",
       "      <td>42.14</td>\n",
       "      <td>8.44</td>\n",
       "      <td>1.56</td>\n",
       "      <td>4.69</td>\n",
       "      <td>1.594</td>\n",
       "      <td>2.38</td>\n",
       "      <td>0.36</td>\n",
       "      <td>NaN</td>\n",
       "      <td>9.23</td>\n",
       "      <td>5.24</td>\n",
       "    </tr>\n",
       "    <tr>\n",
       "      <th>331</th>\n",
       "      <td>2013-08-05</td>\n",
       "      <td>WE 2013.7</td>\n",
       "      <td>2.3</td>\n",
       "      <td>0.75</td>\n",
       "      <td>Surface</td>\n",
       "      <td>14:06</td>\n",
       "      <td>41.8283</td>\n",
       "      <td>-83.4046</td>\n",
       "      <td>NaN</td>\n",
       "      <td>NaN</td>\n",
       "      <td>...</td>\n",
       "      <td>105.77</td>\n",
       "      <td>7.99</td>\n",
       "      <td>0.38</td>\n",
       "      <td>2.03</td>\n",
       "      <td>1.582</td>\n",
       "      <td>8.69</td>\n",
       "      <td>1.36</td>\n",
       "      <td>NaN</td>\n",
       "      <td>30.84</td>\n",
       "      <td>24.52</td>\n",
       "    </tr>\n",
       "    <tr>\n",
       "      <th>340</th>\n",
       "      <td>2013-08-19</td>\n",
       "      <td>WE 2013.8</td>\n",
       "      <td>9.6</td>\n",
       "      <td>0.75</td>\n",
       "      <td>Surface</td>\n",
       "      <td>12:05</td>\n",
       "      <td>41.7306</td>\n",
       "      <td>-82.8961</td>\n",
       "      <td>NaN</td>\n",
       "      <td>NaN</td>\n",
       "      <td>...</td>\n",
       "      <td>38.43</td>\n",
       "      <td>2.39</td>\n",
       "      <td>0.61</td>\n",
       "      <td>0.35</td>\n",
       "      <td>0.218</td>\n",
       "      <td>4.64</td>\n",
       "      <td>0.72</td>\n",
       "      <td>NaN</td>\n",
       "      <td>12.00</td>\n",
       "      <td>11.60</td>\n",
       "    </tr>\n",
       "    <tr>\n",
       "      <th>345</th>\n",
       "      <td>2013-08-26</td>\n",
       "      <td>WE 2013.9</td>\n",
       "      <td>7.9</td>\n",
       "      <td>0.75</td>\n",
       "      <td>Surface</td>\n",
       "      <td>12:40</td>\n",
       "      <td>41.9138</td>\n",
       "      <td>-83.1678</td>\n",
       "      <td>NaN</td>\n",
       "      <td>NaN</td>\n",
       "      <td>...</td>\n",
       "      <td>13.90</td>\n",
       "      <td>4.51</td>\n",
       "      <td>0.76</td>\n",
       "      <td>1.06</td>\n",
       "      <td>0.226</td>\n",
       "      <td>0.46</td>\n",
       "      <td>0.07</td>\n",
       "      <td>NaN</td>\n",
       "      <td>NaN</td>\n",
       "      <td>NaN</td>\n",
       "    </tr>\n",
       "    <tr>\n",
       "      <th>346</th>\n",
       "      <td>2013-08-26</td>\n",
       "      <td>WE 2013.10</td>\n",
       "      <td>6.3</td>\n",
       "      <td>0.75</td>\n",
       "      <td>Surface</td>\n",
       "      <td>13:15</td>\n",
       "      <td>41.8352</td>\n",
       "      <td>-83.2909</td>\n",
       "      <td>NaN</td>\n",
       "      <td>NaN</td>\n",
       "      <td>...</td>\n",
       "      <td>56.78</td>\n",
       "      <td>5.79</td>\n",
       "      <td>0.71</td>\n",
       "      <td>1.40</td>\n",
       "      <td>0.740</td>\n",
       "      <td>4.83</td>\n",
       "      <td>0.73</td>\n",
       "      <td>NaN</td>\n",
       "      <td>17.30</td>\n",
       "      <td>11.57</td>\n",
       "    </tr>\n",
       "    <tr>\n",
       "      <th>351</th>\n",
       "      <td>2013-09-03</td>\n",
       "      <td>WE 2013.11</td>\n",
       "      <td>7.5</td>\n",
       "      <td>0.75</td>\n",
       "      <td>Surface</td>\n",
       "      <td>12:42</td>\n",
       "      <td>41.9209</td>\n",
       "      <td>-83.1980</td>\n",
       "      <td>NaN</td>\n",
       "      <td>NaN</td>\n",
       "      <td>...</td>\n",
       "      <td>12.58</td>\n",
       "      <td>1.21</td>\n",
       "      <td>0.35</td>\n",
       "      <td>33.84</td>\n",
       "      <td>0.262</td>\n",
       "      <td>0.40</td>\n",
       "      <td>0.05</td>\n",
       "      <td>NaN</td>\n",
       "      <td>2.87</td>\n",
       "      <td>1.13</td>\n",
       "    </tr>\n",
       "    <tr>\n",
       "      <th>352</th>\n",
       "      <td>2013-09-03</td>\n",
       "      <td>WE 2013.12</td>\n",
       "      <td>7.7</td>\n",
       "      <td>0.75</td>\n",
       "      <td>Surface</td>\n",
       "      <td>12:24</td>\n",
       "      <td>41.8739</td>\n",
       "      <td>-83.2000</td>\n",
       "      <td>NaN</td>\n",
       "      <td>NaN</td>\n",
       "      <td>...</td>\n",
       "      <td>17.10</td>\n",
       "      <td>0.92</td>\n",
       "      <td>0.25</td>\n",
       "      <td>5.80</td>\n",
       "      <td>0.284</td>\n",
       "      <td>0.79</td>\n",
       "      <td>0.09</td>\n",
       "      <td>NaN</td>\n",
       "      <td>4.90</td>\n",
       "      <td>2.30</td>\n",
       "    </tr>\n",
       "    <tr>\n",
       "      <th>357</th>\n",
       "      <td>2013-09-10</td>\n",
       "      <td>WE 2013.14</td>\n",
       "      <td>4.2</td>\n",
       "      <td>0.75</td>\n",
       "      <td>Surface</td>\n",
       "      <td>10:50</td>\n",
       "      <td>41.7088</td>\n",
       "      <td>-83.3034</td>\n",
       "      <td>NaN</td>\n",
       "      <td>NaN</td>\n",
       "      <td>...</td>\n",
       "      <td>142.82</td>\n",
       "      <td>6.94</td>\n",
       "      <td>0.25</td>\n",
       "      <td>1.09</td>\n",
       "      <td>0.011</td>\n",
       "      <td>10.30</td>\n",
       "      <td>1.49</td>\n",
       "      <td>NaN</td>\n",
       "      <td>47.07</td>\n",
       "      <td>25.07</td>\n",
       "    </tr>\n",
       "    <tr>\n",
       "      <th>362</th>\n",
       "      <td>2013-09-17</td>\n",
       "      <td>WE 2013.15</td>\n",
       "      <td>4.6</td>\n",
       "      <td>0.75</td>\n",
       "      <td>Surface</td>\n",
       "      <td>12:20</td>\n",
       "      <td>41.7100</td>\n",
       "      <td>-83.2914</td>\n",
       "      <td>NaN</td>\n",
       "      <td>NaN</td>\n",
       "      <td>...</td>\n",
       "      <td>116.74</td>\n",
       "      <td>5.26</td>\n",
       "      <td>0.25</td>\n",
       "      <td>2.00</td>\n",
       "      <td>0.011</td>\n",
       "      <td>5.92</td>\n",
       "      <td>0.96</td>\n",
       "      <td>NaN</td>\n",
       "      <td>46.35</td>\n",
       "      <td>15.90</td>\n",
       "    </tr>\n",
       "    <tr>\n",
       "      <th>371</th>\n",
       "      <td>2013-10-15</td>\n",
       "      <td>WE 2013.16</td>\n",
       "      <td>NaN</td>\n",
       "      <td>0.75</td>\n",
       "      <td>Surface</td>\n",
       "      <td>11:01</td>\n",
       "      <td>41.7042</td>\n",
       "      <td>-83.2571</td>\n",
       "      <td>NaN</td>\n",
       "      <td>NaN</td>\n",
       "      <td>...</td>\n",
       "      <td>75.96</td>\n",
       "      <td>6.20</td>\n",
       "      <td>0.69</td>\n",
       "      <td>0.04</td>\n",
       "      <td>0.009</td>\n",
       "      <td>3.43</td>\n",
       "      <td>0.46</td>\n",
       "      <td>NaN</td>\n",
       "      <td>22.45</td>\n",
       "      <td>6.55</td>\n",
       "    </tr>\n",
       "    <tr>\n",
       "      <th>372</th>\n",
       "      <td>2013-10-15</td>\n",
       "      <td>WE 2013.17</td>\n",
       "      <td>4.4</td>\n",
       "      <td>0.75</td>\n",
       "      <td>Surface</td>\n",
       "      <td>11:40</td>\n",
       "      <td>41.6439</td>\n",
       "      <td>-83.1294</td>\n",
       "      <td>NaN</td>\n",
       "      <td>NaN</td>\n",
       "      <td>...</td>\n",
       "      <td>59.68</td>\n",
       "      <td>13.30</td>\n",
       "      <td>5.70</td>\n",
       "      <td>43.21</td>\n",
       "      <td>0.044</td>\n",
       "      <td>2.72</td>\n",
       "      <td>0.40</td>\n",
       "      <td>NaN</td>\n",
       "      <td>15.88</td>\n",
       "      <td>3.88</td>\n",
       "    </tr>\n",
       "    <tr>\n",
       "      <th>373</th>\n",
       "      <td>2013-10-15</td>\n",
       "      <td>WE 2013.18</td>\n",
       "      <td>8.0</td>\n",
       "      <td>0.75</td>\n",
       "      <td>Surface</td>\n",
       "      <td>12:15</td>\n",
       "      <td>41.7415</td>\n",
       "      <td>-83.1514</td>\n",
       "      <td>NaN</td>\n",
       "      <td>NaN</td>\n",
       "      <td>...</td>\n",
       "      <td>44.17</td>\n",
       "      <td>4.98</td>\n",
       "      <td>0.36</td>\n",
       "      <td>0.04</td>\n",
       "      <td>0.009</td>\n",
       "      <td>2.61</td>\n",
       "      <td>0.46</td>\n",
       "      <td>NaN</td>\n",
       "      <td>14.07</td>\n",
       "      <td>6.20</td>\n",
       "    </tr>\n",
       "    <tr>\n",
       "      <th>374</th>\n",
       "      <td>2013-10-15</td>\n",
       "      <td>WE 2013.19</td>\n",
       "      <td>4.5</td>\n",
       "      <td>0.75</td>\n",
       "      <td>Surface</td>\n",
       "      <td>10:45</td>\n",
       "      <td>41.7166</td>\n",
       "      <td>-83.3072</td>\n",
       "      <td>NaN</td>\n",
       "      <td>NaN</td>\n",
       "      <td>...</td>\n",
       "      <td>77.55</td>\n",
       "      <td>6.04</td>\n",
       "      <td>0.45</td>\n",
       "      <td>0.04</td>\n",
       "      <td>0.009</td>\n",
       "      <td>3.53</td>\n",
       "      <td>0.49</td>\n",
       "      <td>NaN</td>\n",
       "      <td>26.20</td>\n",
       "      <td>8.40</td>\n",
       "    </tr>\n",
       "    <tr>\n",
       "      <th>427</th>\n",
       "      <td>2014-08-04</td>\n",
       "      <td>1-Aug</td>\n",
       "      <td>2.9</td>\n",
       "      <td>0.75</td>\n",
       "      <td>Surface</td>\n",
       "      <td>12:00</td>\n",
       "      <td>41.7152</td>\n",
       "      <td>-83.3287</td>\n",
       "      <td>NaN</td>\n",
       "      <td>NaN</td>\n",
       "      <td>...</td>\n",
       "      <td>60.24</td>\n",
       "      <td>7.38</td>\n",
       "      <td>0.39</td>\n",
       "      <td>2.58</td>\n",
       "      <td>0.579</td>\n",
       "      <td>3.76</td>\n",
       "      <td>0.56</td>\n",
       "      <td>NaN</td>\n",
       "      <td>22.10</td>\n",
       "      <td>9.43</td>\n",
       "    </tr>\n",
       "    <tr>\n",
       "      <th>428</th>\n",
       "      <td>2014-08-04</td>\n",
       "      <td>2-Aug</td>\n",
       "      <td>5.0</td>\n",
       "      <td>0.75</td>\n",
       "      <td>Surface</td>\n",
       "      <td>13:25</td>\n",
       "      <td>41.6760</td>\n",
       "      <td>-83.2388</td>\n",
       "      <td>NaN</td>\n",
       "      <td>NaN</td>\n",
       "      <td>...</td>\n",
       "      <td>53.01</td>\n",
       "      <td>6.11</td>\n",
       "      <td>0.25</td>\n",
       "      <td>2.66</td>\n",
       "      <td>0.542</td>\n",
       "      <td>5.10</td>\n",
       "      <td>0.74</td>\n",
       "      <td>NaN</td>\n",
       "      <td>18.50</td>\n",
       "      <td>14.23</td>\n",
       "    </tr>\n",
       "    <tr>\n",
       "      <th>1119</th>\n",
       "      <td>2017-07-31</td>\n",
       "      <td>2017.1</td>\n",
       "      <td>NaN</td>\n",
       "      <td>0.00</td>\n",
       "      <td>Scum</td>\n",
       "      <td>12:20</td>\n",
       "      <td>41.7100</td>\n",
       "      <td>-83.2720</td>\n",
       "      <td>NaN</td>\n",
       "      <td>NaN</td>\n",
       "      <td>...</td>\n",
       "      <td>NaN</td>\n",
       "      <td>NaN</td>\n",
       "      <td>NaN</td>\n",
       "      <td>NaN</td>\n",
       "      <td>NaN</td>\n",
       "      <td>NaN</td>\n",
       "      <td>NaN</td>\n",
       "      <td>NaN</td>\n",
       "      <td>NaN</td>\n",
       "      <td>NaN</td>\n",
       "    </tr>\n",
       "    <tr>\n",
       "      <th>1133</th>\n",
       "      <td>2017-08-07</td>\n",
       "      <td>2017.2</td>\n",
       "      <td>NaN</td>\n",
       "      <td>0.00</td>\n",
       "      <td>Scum</td>\n",
       "      <td>13:42</td>\n",
       "      <td>41.7706</td>\n",
       "      <td>-83.3365</td>\n",
       "      <td>NaN</td>\n",
       "      <td>NaN</td>\n",
       "      <td>...</td>\n",
       "      <td>NaN</td>\n",
       "      <td>NaN</td>\n",
       "      <td>NaN</td>\n",
       "      <td>NaN</td>\n",
       "      <td>NaN</td>\n",
       "      <td>NaN</td>\n",
       "      <td>NaN</td>\n",
       "      <td>NaN</td>\n",
       "      <td>NaN</td>\n",
       "      <td>NaN</td>\n",
       "    </tr>\n",
       "    <tr>\n",
       "      <th>1211</th>\n",
       "      <td>2017-09-18</td>\n",
       "      <td>2017.3</td>\n",
       "      <td>NaN</td>\n",
       "      <td>0.00</td>\n",
       "      <td>Scum</td>\n",
       "      <td>13:33</td>\n",
       "      <td>41.8151</td>\n",
       "      <td>-83.3895</td>\n",
       "      <td>NaN</td>\n",
       "      <td>NaN</td>\n",
       "      <td>...</td>\n",
       "      <td>NaN</td>\n",
       "      <td>NaN</td>\n",
       "      <td>NaN</td>\n",
       "      <td>NaN</td>\n",
       "      <td>NaN</td>\n",
       "      <td>NaN</td>\n",
       "      <td>NaN</td>\n",
       "      <td>NaN</td>\n",
       "      <td>NaN</td>\n",
       "      <td>NaN</td>\n",
       "    </tr>\n",
       "  </tbody>\n",
       "</table>\n",
       "<p>32 rows × 33 columns</p>\n",
       "</div>"
      ],
      "text/plain": [
       "           Date        Site  Station Depth (m)  Sample Depth (m)  \\\n",
       "118  2019-08-05      2019.1                NaN              0.00   \n",
       "145  2019-08-19      2019.2                NaN              0.00   \n",
       "246  2012-07-31   WE 2012.1                3.1              0.75   \n",
       "247  2012-07-31   WE 2012.2                9.0              0.75   \n",
       "248  2012-07-31   WE 2012.3                8.4              0.75   \n",
       "253  2012-08-06   WE 2012.4                5.8              0.75   \n",
       "262  2012-08-20   WE 2012.5                2.8              0.75   \n",
       "271  2012-09-05   WE 2012.6                5.5              0.75   \n",
       "272  2012-09-05   WE 2012.7                5.0              0.75   \n",
       "309  2013-07-15   WE 2013.1                5.9              0.75   \n",
       "313  2013-07-17   WE 2013.2                4.9              0.75   \n",
       "323  2013-07-30   WE 2013.3                NaN              0.75   \n",
       "324  2013-08-02   WE 2013.4                5.9              0.75   \n",
       "329  2013-08-05   WE 2013.5                4.8              0.75   \n",
       "330  2013-08-05   WE 2013.6                4.0              0.75   \n",
       "331  2013-08-05   WE 2013.7                2.3              0.75   \n",
       "340  2013-08-19   WE 2013.8                9.6              0.75   \n",
       "345  2013-08-26   WE 2013.9                7.9              0.75   \n",
       "346  2013-08-26  WE 2013.10                6.3              0.75   \n",
       "351  2013-09-03  WE 2013.11                7.5              0.75   \n",
       "352  2013-09-03  WE 2013.12                7.7              0.75   \n",
       "357  2013-09-10  WE 2013.14                4.2              0.75   \n",
       "362  2013-09-17  WE 2013.15                4.6              0.75   \n",
       "371  2013-10-15  WE 2013.16                NaN              0.75   \n",
       "372  2013-10-15  WE 2013.17                4.4              0.75   \n",
       "373  2013-10-15  WE 2013.18                8.0              0.75   \n",
       "374  2013-10-15  WE 2013.19                4.5              0.75   \n",
       "427  2014-08-04       1-Aug                2.9              0.75   \n",
       "428  2014-08-04       2-Aug                5.0              0.75   \n",
       "1119 2017-07-31      2017.1                NaN              0.00   \n",
       "1133 2017-08-07      2017.2                NaN              0.00   \n",
       "1211 2017-09-18      2017.3                NaN              0.00   \n",
       "\n",
       "     Sample Depth (category) Local Time (Eastern Time Zone)  \\\n",
       "118                     Scum                          12:14   \n",
       "145                     Scum                          12:40   \n",
       "246                  Surface                          13:20   \n",
       "247                  Surface                          13:50   \n",
       "248                  Surface                          14:12   \n",
       "253                  Surface                          10:25   \n",
       "262                  Surface                          11:50   \n",
       "271                  Surface                          11:00   \n",
       "272                  Surface                          11:54   \n",
       "309                  Surface                          11:57   \n",
       "313                  Surface                          10:55   \n",
       "323                  Surface                            NaN   \n",
       "324                  Surface                           9:32   \n",
       "329                  Surface                          11:54   \n",
       "330                  Surface                          13:15   \n",
       "331                  Surface                          14:06   \n",
       "340                  Surface                          12:05   \n",
       "345                  Surface                          12:40   \n",
       "346                  Surface                          13:15   \n",
       "351                  Surface                          12:42   \n",
       "352                  Surface                          12:24   \n",
       "357                  Surface                          10:50   \n",
       "362                  Surface                          12:20   \n",
       "371                  Surface                          11:01   \n",
       "372                  Surface                          11:40   \n",
       "373                  Surface                          12:15   \n",
       "374                  Surface                          10:45   \n",
       "427                  Surface                          12:00   \n",
       "428                  Surface                          13:25   \n",
       "1119                    Scum                          12:20   \n",
       "1133                    Scum                          13:42   \n",
       "1211                    Scum                          13:33   \n",
       "\n",
       "      Latitude (decimal deg)  Longitude (decimal deg)  Wind speed (knots)  \\\n",
       "118                  41.7075                 -83.3761                 NaN   \n",
       "145                  41.7395                 -83.3711                 NaN   \n",
       "246                  41.6315                 -83.1521                 NaN   \n",
       "247                  41.7394                 -83.1144                 NaN   \n",
       "248                  41.7960                 -83.1675                 NaN   \n",
       "253                  41.8361                 -83.3373                 NaN   \n",
       "262                  41.7039                 -83.3860                 NaN   \n",
       "271                  41.4833                 -82.6983                 NaN   \n",
       "272                  41.5606                 -82.9072                 NaN   \n",
       "309                  41.8330                 -83.3220                 NaN   \n",
       "313                  41.8356                 -83.3441                 NaN   \n",
       "323                  41.8261                 -83.3837                 NaN   \n",
       "324                  41.8660                 -83.3003                 NaN   \n",
       "329                  41.7171                 -83.3041                 NaN   \n",
       "330                  41.9272                 -83.3097                 NaN   \n",
       "331                  41.8283                 -83.4046                 NaN   \n",
       "340                  41.7306                 -82.8961                 NaN   \n",
       "345                  41.9138                 -83.1678                 NaN   \n",
       "346                  41.8352                 -83.2909                 NaN   \n",
       "351                  41.9209                 -83.1980                 NaN   \n",
       "352                  41.8739                 -83.2000                 NaN   \n",
       "357                  41.7088                 -83.3034                 NaN   \n",
       "362                  41.7100                 -83.2914                 NaN   \n",
       "371                  41.7042                 -83.2571                 NaN   \n",
       "372                  41.6439                 -83.1294                 NaN   \n",
       "373                  41.7415                 -83.1514                 NaN   \n",
       "374                  41.7166                 -83.3072                 NaN   \n",
       "427                  41.7152                 -83.3287                 NaN   \n",
       "428                  41.6760                 -83.2388                 NaN   \n",
       "1119                 41.7100                 -83.2720                 NaN   \n",
       "1133                 41.7706                 -83.3365                 NaN   \n",
       "1211                 41.8151                 -83.3895                 NaN   \n",
       "\n",
       "      Wave Height (ft)  ... Total Phosphorus (µg P/L)  \\\n",
       "118                NaN  ...                       NaN   \n",
       "145                NaN  ...                       NaN   \n",
       "246                NaN  ...                     20.94   \n",
       "247                NaN  ...                     30.41   \n",
       "248                NaN  ...                       NaN   \n",
       "253                NaN  ...                     60.64   \n",
       "262                NaN  ...                     84.18   \n",
       "271                NaN  ...                     99.69   \n",
       "272                NaN  ...                     23.41   \n",
       "309                NaN  ...                    161.79   \n",
       "313                NaN  ...                       NaN   \n",
       "323                NaN  ...                       NaN   \n",
       "324                NaN  ...                     38.79   \n",
       "329                NaN  ...                     61.50   \n",
       "330                NaN  ...                     42.14   \n",
       "331                NaN  ...                    105.77   \n",
       "340                NaN  ...                     38.43   \n",
       "345                NaN  ...                     13.90   \n",
       "346                NaN  ...                     56.78   \n",
       "351                NaN  ...                     12.58   \n",
       "352                NaN  ...                     17.10   \n",
       "357                NaN  ...                    142.82   \n",
       "362                NaN  ...                    116.74   \n",
       "371                NaN  ...                     75.96   \n",
       "372                NaN  ...                     59.68   \n",
       "373                NaN  ...                     44.17   \n",
       "374                NaN  ...                     77.55   \n",
       "427                NaN  ...                     60.24   \n",
       "428                NaN  ...                     53.01   \n",
       "1119               NaN  ...                       NaN   \n",
       "1133               NaN  ...                       NaN   \n",
       "1211               NaN  ...                       NaN   \n",
       "\n",
       "      Total Dissolved Phosphorus (µg P/L)  \\\n",
       "118                                   NaN   \n",
       "145                                   NaN   \n",
       "246                                  4.36   \n",
       "247                                 10.61   \n",
       "248                                  4.25   \n",
       "253                                  7.52   \n",
       "262                                 14.60   \n",
       "271                                 25.54   \n",
       "272                                 13.04   \n",
       "309                                 10.86   \n",
       "313                                   NaN   \n",
       "323                                   NaN   \n",
       "324                                 11.02   \n",
       "329                                 10.29   \n",
       "330                                  8.44   \n",
       "331                                  7.99   \n",
       "340                                  2.39   \n",
       "345                                  4.51   \n",
       "346                                  5.79   \n",
       "351                                  1.21   \n",
       "352                                  0.92   \n",
       "357                                  6.94   \n",
       "362                                  5.26   \n",
       "371                                  6.20   \n",
       "372                                 13.30   \n",
       "373                                  4.98   \n",
       "374                                  6.04   \n",
       "427                                  7.38   \n",
       "428                                  6.11   \n",
       "1119                                  NaN   \n",
       "1133                                  NaN   \n",
       "1211                                  NaN   \n",
       "\n",
       "      Soluble Reactive Phosphorus (µg P/L)  Ammonia (µg N/L)  \\\n",
       "118                                    NaN               NaN   \n",
       "145                                    NaN               NaN   \n",
       "246                                   0.25              0.04   \n",
       "247                                   3.22              0.04   \n",
       "248                                   0.25              0.04   \n",
       "253                                   0.44              0.23   \n",
       "262                                   0.92              3.47   \n",
       "271                                  16.58              0.82   \n",
       "272                                   7.69              6.66   \n",
       "309                                   1.87              1.73   \n",
       "313                                    NaN               NaN   \n",
       "323                                    NaN               NaN   \n",
       "324                                   3.33              6.81   \n",
       "329                                   1.08              3.13   \n",
       "330                                   1.56              4.69   \n",
       "331                                   0.38              2.03   \n",
       "340                                   0.61              0.35   \n",
       "345                                   0.76              1.06   \n",
       "346                                   0.71              1.40   \n",
       "351                                   0.35             33.84   \n",
       "352                                   0.25              5.80   \n",
       "357                                   0.25              1.09   \n",
       "362                                   0.25              2.00   \n",
       "371                                   0.69              0.04   \n",
       "372                                   5.70             43.21   \n",
       "373                                   0.36              0.04   \n",
       "374                                   0.45              0.04   \n",
       "427                                   0.39              2.58   \n",
       "428                                   0.25              2.66   \n",
       "1119                                   NaN               NaN   \n",
       "1133                                   NaN               NaN   \n",
       "1211                                   NaN               NaN   \n",
       "\n",
       "      Nitrate + Nitrite (mg N/L)  Particulate Organic Carbon (mg/L)  \\\n",
       "118                          NaN                                NaN   \n",
       "145                          NaN                                NaN   \n",
       "246                        0.389                               1.07   \n",
       "247                        0.405                               0.82   \n",
       "248                        0.405                               1.19   \n",
       "253                        0.434                               3.81   \n",
       "262                        0.123                               4.84   \n",
       "271                        0.002                               3.46   \n",
       "272                        0.005                               0.65   \n",
       "309                        2.139                              11.15   \n",
       "313                          NaN                                NaN   \n",
       "323                          NaN                                NaN   \n",
       "324                        1.798                               1.67   \n",
       "329                        2.089                               3.97   \n",
       "330                        1.594                               2.38   \n",
       "331                        1.582                               8.69   \n",
       "340                        0.218                               4.64   \n",
       "345                        0.226                               0.46   \n",
       "346                        0.740                               4.83   \n",
       "351                        0.262                               0.40   \n",
       "352                        0.284                               0.79   \n",
       "357                        0.011                              10.30   \n",
       "362                        0.011                               5.92   \n",
       "371                        0.009                               3.43   \n",
       "372                        0.044                               2.72   \n",
       "373                        0.009                               2.61   \n",
       "374                        0.009                               3.53   \n",
       "427                        0.579                               3.76   \n",
       "428                        0.542                               5.10   \n",
       "1119                         NaN                                NaN   \n",
       "1133                         NaN                                NaN   \n",
       "1211                         NaN                                NaN   \n",
       "\n",
       "      Particulate Organic Nitrogen (mg/L)  \\\n",
       "118                                   NaN   \n",
       "145                                   NaN   \n",
       "246                                  0.15   \n",
       "247                                  0.16   \n",
       "248                                  0.18   \n",
       "253                                  0.81   \n",
       "262                                  0.94   \n",
       "271                                  0.61   \n",
       "272                                  0.14   \n",
       "309                                  1.98   \n",
       "313                                   NaN   \n",
       "323                                   NaN   \n",
       "324                                  0.29   \n",
       "329                                  0.65   \n",
       "330                                  0.36   \n",
       "331                                  1.36   \n",
       "340                                  0.72   \n",
       "345                                  0.07   \n",
       "346                                  0.73   \n",
       "351                                  0.05   \n",
       "352                                  0.09   \n",
       "357                                  1.49   \n",
       "362                                  0.96   \n",
       "371                                  0.46   \n",
       "372                                  0.40   \n",
       "373                                  0.46   \n",
       "374                                  0.49   \n",
       "427                                  0.56   \n",
       "428                                  0.74   \n",
       "1119                                  NaN   \n",
       "1133                                  NaN   \n",
       "1211                                  NaN   \n",
       "\n",
       "      Colored Dissolved Organic Material absorbance (m-1) at 400nm   \\\n",
       "118                                                 NaN               \n",
       "145                                                 NaN               \n",
       "246                                                 NaN               \n",
       "247                                                 NaN               \n",
       "248                                                 NaN               \n",
       "253                                                 NaN               \n",
       "262                                                 NaN               \n",
       "271                                                 NaN               \n",
       "272                                                 NaN               \n",
       "309                                                 NaN               \n",
       "313                                                 NaN               \n",
       "323                                                 NaN               \n",
       "324                                                 NaN               \n",
       "329                                                 NaN               \n",
       "330                                                 NaN               \n",
       "331                                                 NaN               \n",
       "340                                                 NaN               \n",
       "345                                                 NaN               \n",
       "346                                                 NaN               \n",
       "351                                                 NaN               \n",
       "352                                                 NaN               \n",
       "357                                                 NaN               \n",
       "362                                                 NaN               \n",
       "371                                                 NaN               \n",
       "372                                                 NaN               \n",
       "373                                                 NaN               \n",
       "374                                                 NaN               \n",
       "427                                                 NaN               \n",
       "428                                                 NaN               \n",
       "1119                                                NaN               \n",
       "1133                                                NaN               \n",
       "1211                                                NaN               \n",
       "\n",
       "      Total Suspended Solids (mg/L)  Volatile Suspended Solids (mg/L)  \n",
       "118                             NaN                               NaN  \n",
       "145                             NaN                               NaN  \n",
       "246                             NaN                               NaN  \n",
       "247                             NaN                               NaN  \n",
       "248                             NaN                               NaN  \n",
       "253                             NaN                               NaN  \n",
       "262                             NaN                               NaN  \n",
       "271                             NaN                               NaN  \n",
       "272                             NaN                               NaN  \n",
       "309                           24.60                             21.18  \n",
       "313                           14.10                              9.58  \n",
       "323                             NaN                               NaN  \n",
       "324                           70.60                             39.30  \n",
       "329                           12.27                              8.78  \n",
       "330                            9.23                              5.24  \n",
       "331                           30.84                             24.52  \n",
       "340                           12.00                             11.60  \n",
       "345                             NaN                               NaN  \n",
       "346                           17.30                             11.57  \n",
       "351                            2.87                              1.13  \n",
       "352                            4.90                              2.30  \n",
       "357                           47.07                             25.07  \n",
       "362                           46.35                             15.90  \n",
       "371                           22.45                              6.55  \n",
       "372                           15.88                              3.88  \n",
       "373                           14.07                              6.20  \n",
       "374                           26.20                              8.40  \n",
       "427                           22.10                              9.43  \n",
       "428                           18.50                             14.23  \n",
       "1119                            NaN                               NaN  \n",
       "1133                            NaN                               NaN  \n",
       "1211                            NaN                               NaN  \n",
       "\n",
       "[32 rows x 33 columns]"
      ]
     },
     "execution_count": 4,
     "metadata": {},
     "output_type": "execute_result"
    }
   ],
   "source": [
    "sites = ['WE2', 'WE8', 'WE13', 'WE12', 'WE6', \n",
    "         'WE4', 'WE9', 'WE15', 'WE16', 'WE14']\n",
    "df_glerl[~df_glerl['Site'].apply(lambda s: s in sites)]"
   ]
  },
  {
   "cell_type": "markdown",
   "metadata": {},
   "source": [
    "These sites seem to be erroneous, and since each site has different latitudes and longitudes they cannot be reassigned to the correct site. Instead they will be renamed \"unknown.\""
   ]
  },
  {
   "cell_type": "code",
   "execution_count": 5,
   "metadata": {},
   "outputs": [],
   "source": [
    "df_glerl.loc[~df_glerl['Site'].apply(lambda s: s in sites), 'Site'] = 'Unknown'"
   ]
  },
  {
   "cell_type": "code",
   "execution_count": 6,
   "metadata": {},
   "outputs": [
    {
     "data": {
      "text/plain": [
       "WE2        241\n",
       "WE8        241\n",
       "WE13       217\n",
       "WE12       208\n",
       "WE6        160\n",
       "WE4        151\n",
       "WE9         80\n",
       "WE15        51\n",
       "Unknown     32\n",
       "WE16        31\n",
       "WE14        15\n",
       "Name: Site, dtype: int64"
      ]
     },
     "execution_count": 6,
     "metadata": {},
     "output_type": "execute_result"
    }
   ],
   "source": [
    "df_glerl['Site'].value_counts()"
   ]
  },
  {
   "cell_type": "markdown",
   "metadata": {},
   "source": [
    "#### Mapping sites"
   ]
  },
  {
   "cell_type": "code",
   "execution_count": 7,
   "metadata": {},
   "outputs": [
    {
     "data": {
      "text/html": [
       "<div>\n",
       "<style scoped>\n",
       "    .dataframe tbody tr th:only-of-type {\n",
       "        vertical-align: middle;\n",
       "    }\n",
       "\n",
       "    .dataframe tbody tr th {\n",
       "        vertical-align: top;\n",
       "    }\n",
       "\n",
       "    .dataframe thead th {\n",
       "        text-align: right;\n",
       "    }\n",
       "</style>\n",
       "<table border=\"1\" class=\"dataframe\">\n",
       "  <thead>\n",
       "    <tr style=\"text-align: right;\">\n",
       "      <th></th>\n",
       "      <th>Latitude (decimal deg)</th>\n",
       "      <th>Longitude (decimal deg)</th>\n",
       "      <th>Site</th>\n",
       "      <th>Counts</th>\n",
       "    </tr>\n",
       "  </thead>\n",
       "  <tbody>\n",
       "    <tr>\n",
       "      <th>521</th>\n",
       "      <td>41.7447</td>\n",
       "      <td>-83.1348</td>\n",
       "      <td>WE13</td>\n",
       "      <td>6</td>\n",
       "    </tr>\n",
       "    <tr>\n",
       "      <th>177</th>\n",
       "      <td>41.7040</td>\n",
       "      <td>-83.2528</td>\n",
       "      <td>WE12</td>\n",
       "      <td>6</td>\n",
       "    </tr>\n",
       "    <tr>\n",
       "      <th>2</th>\n",
       "      <td>41.2633</td>\n",
       "      <td>-83.3290</td>\n",
       "      <td>WE2</td>\n",
       "      <td>6</td>\n",
       "    </tr>\n",
       "    <tr>\n",
       "      <th>480</th>\n",
       "      <td>41.7428</td>\n",
       "      <td>-83.1350</td>\n",
       "      <td>WE13</td>\n",
       "      <td>6</td>\n",
       "    </tr>\n",
       "    <tr>\n",
       "      <th>878</th>\n",
       "      <td>41.8341</td>\n",
       "      <td>-83.3553</td>\n",
       "      <td>WE8</td>\n",
       "      <td>6</td>\n",
       "    </tr>\n",
       "  </tbody>\n",
       "</table>\n",
       "</div>"
      ],
      "text/plain": [
       "     Latitude (decimal deg)  Longitude (decimal deg)  Site  Counts\n",
       "521                 41.7447                 -83.1348  WE13       6\n",
       "177                 41.7040                 -83.2528  WE12       6\n",
       "2                   41.2633                 -83.3290   WE2       6\n",
       "480                 41.7428                 -83.1350  WE13       6\n",
       "878                 41.8341                 -83.3553   WE8       6"
      ]
     },
     "execution_count": 7,
     "metadata": {},
     "output_type": "execute_result"
    }
   ],
   "source": [
    "#aggregate by coordinate combination so that there are not repeat tokens on the map\n",
    "coords = df_glerl.groupby(['Latitude (decimal deg)','Longitude (decimal deg)']).agg({'Site': 'first', 'Date': 'count'}).rename(columns={'Date': 'Counts'}).reset_index()\n",
    "coords.sort_values('Counts', ascending=False).head()\n"
   ]
  },
  {
   "cell_type": "code",
   "execution_count": null,
   "metadata": {
    "scrolled": true
   },
   "outputs": [],
   "source": [
    "m = folium.Map(location=[41.76, -83.26])\n",
    "for i in coords.index:\n",
    "    lat = coords.loc[i, 'Latitude (decimal deg)']\n",
    "    long = coords.loc[i, 'Longitude (decimal deg)']\n",
    "    site = coords.loc[i,'Site']\n",
    "    counts = coords.loc[i, 'Counts']\n",
    "    folium.Marker([lat, long], popup=(lat,long), tooltip=(site, counts)).add_to(m)\n",
    "m"
   ]
  },
  {
   "cell_type": "markdown",
   "metadata": {},
   "source": [
    "We can clearly see the clusters around the moored stations, some of which have more measurements than others (see Methods - Study Area of <a href='https://www.sciencedirect.com/science/article/pii/S038013301930067X'>Sayers et al</a>). There are also clearly some errors here with the points that are found on land. We can remove them by dropping any points with latitudes <=41.3592 or >=42.002, and longitudes <=-83.5683."
   ]
  },
  {
   "cell_type": "code",
   "execution_count": 8,
   "metadata": {},
   "outputs": [],
   "source": [
    "bad_coords = (df_glerl['Latitude (decimal deg)'] <= 41.3592) | (df_glerl['Latitude (decimal deg)'] >= 42.002) | (df_glerl['Longitude (decimal deg)'] <= -83.5683)\n",
    "df_glerl = df_glerl[~bad_coords].copy()"
   ]
  },
  {
   "cell_type": "code",
   "execution_count": null,
   "metadata": {
    "scrolled": true
   },
   "outputs": [],
   "source": [
    "#check that all errant coordinates were removed\n",
    "coords = df_glerl.groupby(['Latitude (decimal deg)','Longitude (decimal deg)']).agg({'Site': 'first', 'Date': 'count'}).rename(columns={'Date': 'Counts'}).reset_index()\n",
    "m = folium.Map(location=[41.76, -83.26])\n",
    "for i in coords.index:\n",
    "    lat = coords.loc[i, 'Latitude (decimal deg)']\n",
    "    long = coords.loc[i, 'Longitude (decimal deg)']\n",
    "    site = coords.loc[i,'Site']\n",
    "    counts = coords.loc[i, 'Counts']\n",
    "    folium.Marker([lat, long], popup=(lat,long), tooltip=(site, counts)).add_to(m)\n",
    "m"
   ]
  },
  {
   "cell_type": "code",
   "execution_count": 9,
   "metadata": {},
   "outputs": [],
   "source": [
    "#Taking a closer look at the Sandusky point, there is only one measurement here and it is far removed from our other \n",
    "#data, so it will be dropped.\n",
    "df_glerl.drop(index=263, inplace=True)"
   ]
  },
  {
   "cell_type": "markdown",
   "metadata": {},
   "source": [
    "### Sample Depth"
   ]
  },
  {
   "cell_type": "code",
   "execution_count": 10,
   "metadata": {},
   "outputs": [
    {
     "data": {
      "text/plain": [
       "Surface       987\n",
       "Bottom        356\n",
       "Scum           47\n",
       "Mid-column     19\n",
       "Name: Sample Depth (category), dtype: int64"
      ]
     },
     "execution_count": 10,
     "metadata": {},
     "output_type": "execute_result"
    }
   ],
   "source": [
    "df_glerl['Sample Depth (category)'].value_counts()"
   ]
  },
  {
   "cell_type": "markdown",
   "metadata": {},
   "source": [
    "Most (~70%) of the samples are from the surface, ~25% are bottom samples, and the remaining are mid-column and scum samples. For the purpose of investigating algae formation surface samples are the most relevant, since algal blooms tend to form at the surface of the water. Let's examine the bottom samples."
   ]
  },
  {
   "cell_type": "code",
   "execution_count": 11,
   "metadata": {
    "scrolled": true
   },
   "outputs": [
    {
     "name": "stdout",
     "output_type": "stream",
     "text": [
      "<class 'pandas.core.frame.DataFrame'>\n",
      "Int64Index: 356 entries, 1 to 1459\n",
      "Data columns (total 33 columns):\n",
      " #   Column                                                         Non-Null Count  Dtype         \n",
      "---  ------                                                         --------------  -----         \n",
      " 0   Date                                                           356 non-null    datetime64[ns]\n",
      " 1   Site                                                           356 non-null    object        \n",
      " 2   Station Depth (m)                                              0 non-null      float64       \n",
      " 3   Sample Depth (m)                                               355 non-null    float64       \n",
      " 4   Sample Depth (category)                                        356 non-null    object        \n",
      " 5   Local Time (Eastern Time Zone)                                 1 non-null      object        \n",
      " 6   Latitude (decimal deg)                                         356 non-null    float64       \n",
      " 7   Longitude (decimal deg)                                        356 non-null    float64       \n",
      " 8   Wind speed (knots)                                             0 non-null      float64       \n",
      " 9   Wave Height (ft)                                               0 non-null      float64       \n",
      " 10  Sky                                                            1 non-null      object        \n",
      " 11  Secchi Depth (m)                                               1 non-null      float64       \n",
      " 12  CTD Temperature (°C)                                           351 non-null    float64       \n",
      " 13  CTD Specific Conductivity (µS/cm)                              351 non-null    float64       \n",
      " 14  CTD Beam Attenuation (m-1)                                     349 non-null    float64       \n",
      " 15  CTD Tramission (%)                                             349 non-null    float64       \n",
      " 16  CTD Dissolved Oxygen (mg/L)                                    351 non-null    float64       \n",
      " 17  CTD Photosynthetically Active Radiation (µE/m2/s)              351 non-null    float64       \n",
      " 18  Turbidity (NTU)                                                0 non-null      float64       \n",
      " 19  Particulate Microcystin (µg/L)                                 352 non-null    float64       \n",
      " 20  Dissolved Microcystin (µg/L)                                   350 non-null    float64       \n",
      " 21  Extracted Phycocyanin (µg/L)                                   350 non-null    float64       \n",
      " 22  Extracted Chlorophyll a (µg/L)                                 350 non-null    float64       \n",
      " 23  Total Phosphorus (µg P/L)                                      0 non-null      float64       \n",
      " 24  Total Dissolved Phosphorus (µg P/L)                            0 non-null      float64       \n",
      " 25  Soluble Reactive Phosphorus (µg P/L)                           0 non-null      float64       \n",
      " 26  Ammonia (µg N/L)                                               0 non-null      float64       \n",
      " 27  Nitrate + Nitrite (mg N/L)                                     1 non-null      float64       \n",
      " 28  Particulate Organic Carbon (mg/L)                              0 non-null      float64       \n",
      " 29  Particulate Organic Nitrogen (mg/L)                            0 non-null      float64       \n",
      " 30  Colored Dissolved Organic Material absorbance (m-1) at 400nm   0 non-null      float64       \n",
      " 31  Total Suspended Solids (mg/L)                                  1 non-null      float64       \n",
      " 32  Volatile Suspended Solids (mg/L)                               1 non-null      float64       \n",
      "dtypes: datetime64[ns](1), float64(28), object(4)\n",
      "memory usage: 94.6+ KB\n"
     ]
    }
   ],
   "source": [
    "df_glerl[df_glerl['Sample Depth (category)'] == 'Bottom'].info()"
   ]
  },
  {
   "cell_type": "code",
   "execution_count": 12,
   "metadata": {
    "scrolled": true
   },
   "outputs": [
    {
     "name": "stdout",
     "output_type": "stream",
     "text": [
      "<class 'pandas.core.frame.DataFrame'>\n",
      "Int64Index: 19 entries, 514 to 757\n",
      "Data columns (total 33 columns):\n",
      " #   Column                                                         Non-Null Count  Dtype         \n",
      "---  ------                                                         --------------  -----         \n",
      " 0   Date                                                           19 non-null     datetime64[ns]\n",
      " 1   Site                                                           19 non-null     object        \n",
      " 2   Station Depth (m)                                              0 non-null      float64       \n",
      " 3   Sample Depth (m)                                               19 non-null     float64       \n",
      " 4   Sample Depth (category)                                        19 non-null     object        \n",
      " 5   Local Time (Eastern Time Zone)                                 0 non-null      object        \n",
      " 6   Latitude (decimal deg)                                         19 non-null     float64       \n",
      " 7   Longitude (decimal deg)                                        19 non-null     float64       \n",
      " 8   Wind speed (knots)                                             0 non-null      float64       \n",
      " 9   Wave Height (ft)                                               0 non-null      float64       \n",
      " 10  Sky                                                            0 non-null      object        \n",
      " 11  Secchi Depth (m)                                               0 non-null      float64       \n",
      " 12  CTD Temperature (°C)                                           19 non-null     float64       \n",
      " 13  CTD Specific Conductivity (µS/cm)                              19 non-null     float64       \n",
      " 14  CTD Beam Attenuation (m-1)                                     19 non-null     float64       \n",
      " 15  CTD Tramission (%)                                             19 non-null     float64       \n",
      " 16  CTD Dissolved Oxygen (mg/L)                                    19 non-null     float64       \n",
      " 17  CTD Photosynthetically Active Radiation (µE/m2/s)              19 non-null     float64       \n",
      " 18  Turbidity (NTU)                                                0 non-null      float64       \n",
      " 19  Particulate Microcystin (µg/L)                                 19 non-null     float64       \n",
      " 20  Dissolved Microcystin (µg/L)                                   19 non-null     float64       \n",
      " 21  Extracted Phycocyanin (µg/L)                                   19 non-null     float64       \n",
      " 22  Extracted Chlorophyll a (µg/L)                                 19 non-null     float64       \n",
      " 23  Total Phosphorus (µg P/L)                                      0 non-null      float64       \n",
      " 24  Total Dissolved Phosphorus (µg P/L)                            0 non-null      float64       \n",
      " 25  Soluble Reactive Phosphorus (µg P/L)                           0 non-null      float64       \n",
      " 26  Ammonia (µg N/L)                                               0 non-null      float64       \n",
      " 27  Nitrate + Nitrite (mg N/L)                                     0 non-null      float64       \n",
      " 28  Particulate Organic Carbon (mg/L)                              0 non-null      float64       \n",
      " 29  Particulate Organic Nitrogen (mg/L)                            0 non-null      float64       \n",
      " 30  Colored Dissolved Organic Material absorbance (m-1) at 400nm   0 non-null      float64       \n",
      " 31  Total Suspended Solids (mg/L)                                  0 non-null      float64       \n",
      " 32  Volatile Suspended Solids (mg/L)                               0 non-null      float64       \n",
      "dtypes: datetime64[ns](1), float64(28), object(4)\n",
      "memory usage: 5.0+ KB\n"
     ]
    }
   ],
   "source": [
    "df_glerl[df_glerl['Sample Depth (category)'] == 'Mid-column'].info()"
   ]
  },
  {
   "cell_type": "code",
   "execution_count": 13,
   "metadata": {
    "scrolled": true
   },
   "outputs": [
    {
     "name": "stdout",
     "output_type": "stream",
     "text": [
      "<class 'pandas.core.frame.DataFrame'>\n",
      "Int64Index: 47 entries, 107 to 1234\n",
      "Data columns (total 33 columns):\n",
      " #   Column                                                         Non-Null Count  Dtype         \n",
      "---  ------                                                         --------------  -----         \n",
      " 0   Date                                                           47 non-null     datetime64[ns]\n",
      " 1   Site                                                           47 non-null     object        \n",
      " 2   Station Depth (m)                                              0 non-null      float64       \n",
      " 3   Sample Depth (m)                                               31 non-null     float64       \n",
      " 4   Sample Depth (category)                                        47 non-null     object        \n",
      " 5   Local Time (Eastern Time Zone)                                 5 non-null      object        \n",
      " 6   Latitude (decimal deg)                                         47 non-null     float64       \n",
      " 7   Longitude (decimal deg)                                        47 non-null     float64       \n",
      " 8   Wind speed (knots)                                             0 non-null      float64       \n",
      " 9   Wave Height (ft)                                               0 non-null      float64       \n",
      " 10  Sky                                                            3 non-null      object        \n",
      " 11  Secchi Depth (m)                                               1 non-null      float64       \n",
      " 12  CTD Temperature (°C)                                           0 non-null      float64       \n",
      " 13  CTD Specific Conductivity (µS/cm)                              0 non-null      float64       \n",
      " 14  CTD Beam Attenuation (m-1)                                     0 non-null      float64       \n",
      " 15  CTD Tramission (%)                                             0 non-null      float64       \n",
      " 16  CTD Dissolved Oxygen (mg/L)                                    0 non-null      float64       \n",
      " 17  CTD Photosynthetically Active Radiation (µE/m2/s)              0 non-null      float64       \n",
      " 18  Turbidity (NTU)                                                0 non-null      float64       \n",
      " 19  Particulate Microcystin (µg/L)                                 47 non-null     float64       \n",
      " 20  Dissolved Microcystin (µg/L)                                   47 non-null     float64       \n",
      " 21  Extracted Phycocyanin (µg/L)                                   42 non-null     float64       \n",
      " 22  Extracted Chlorophyll a (µg/L)                                 45 non-null     float64       \n",
      " 23  Total Phosphorus (µg P/L)                                      0 non-null      float64       \n",
      " 24  Total Dissolved Phosphorus (µg P/L)                            0 non-null      float64       \n",
      " 25  Soluble Reactive Phosphorus (µg P/L)                           0 non-null      float64       \n",
      " 26  Ammonia (µg N/L)                                               0 non-null      float64       \n",
      " 27  Nitrate + Nitrite (mg N/L)                                     0 non-null      float64       \n",
      " 28  Particulate Organic Carbon (mg/L)                              0 non-null      float64       \n",
      " 29  Particulate Organic Nitrogen (mg/L)                            0 non-null      float64       \n",
      " 30  Colored Dissolved Organic Material absorbance (m-1) at 400nm   0 non-null      float64       \n",
      " 31  Total Suspended Solids (mg/L)                                  0 non-null      float64       \n",
      " 32  Volatile Suspended Solids (mg/L)                               0 non-null      float64       \n",
      "dtypes: datetime64[ns](1), float64(28), object(4)\n",
      "memory usage: 12.5+ KB\n"
     ]
    }
   ],
   "source": [
    "df_glerl[df_glerl['Sample Depth (category)'] == 'Scum'].info()"
   ]
  },
  {
   "cell_type": "markdown",
   "metadata": {},
   "source": [
    "Most of the non-surface samples contain the target microcystin data, but they are almost all missing chemical water quality data. This presents the question of whether to drop or retain the non-surface samples - although they do not have the data that would most likely be used to predict HAB presence, the microcystin values could be used to categorize a given location at a given date as meeting the requirements for a HAB. For now they will be saved in a separate data frame and we will continue to examine surface samples only."
   ]
  },
  {
   "cell_type": "code",
   "execution_count": 14,
   "metadata": {},
   "outputs": [],
   "source": [
    "non_surface = df_glerl[df_glerl['Sample Depth (category)'] != 'Surface'].copy().reset_index(drop=True)\n",
    "surface = df_glerl[df_glerl['Sample Depth (category)'] == 'Surface'].copy().reset_index(drop=True)"
   ]
  },
  {
   "cell_type": "markdown",
   "metadata": {},
   "source": [
    "### Sky"
   ]
  },
  {
   "cell_type": "code",
   "execution_count": 15,
   "metadata": {
    "scrolled": true
   },
   "outputs": [
    {
     "data": {
      "text/plain": [
       "sunny                444\n",
       "cloudy               214\n",
       "mostly sunny          60\n",
       "partly sunny          52\n",
       "mostly cloudy         48\n",
       "partly cloudy         36\n",
       "overcast              20\n",
       "clear                 19\n",
       "rainy                 14\n",
       "hazy                  13\n",
       "rain                  12\n",
       "foggy                  9\n",
       "Partly Sunny           4\n",
       "mosty sunny            2\n",
       "cloudy/rain            2\n",
       "mosly sunny            2\n",
       "Cloudy                 2\n",
       "sunny/hazy             2\n",
       "hazy/sunny             2\n",
       "cloudy, rainy          2\n",
       "sunny but foggy        1\n",
       "foggy but sunny        1\n",
       "hazy/clear             1\n",
       "cloudy/rainy           1\n",
       "coudy                  1\n",
       "0.059027778            1\n",
       "cloudy/little fog      1\n",
       "Partly Cloudy          1\n",
       "Name: Sky, dtype: int64"
      ]
     },
     "execution_count": 15,
     "metadata": {},
     "output_type": "execute_result"
    }
   ],
   "source": [
    "surface['Sky'].value_counts()"
   ]
  },
  {
   "cell_type": "code",
   "execution_count": 18,
   "metadata": {},
   "outputs": [],
   "source": [
    "#merge some similar terms and deal with typos\n",
    "surface['Sky'] = surface['Sky'].astype('str').apply(lambda s: s.lower())\n",
    "surface.loc[surface['Sky'] == 'mosty sunny', 'Sky'] = 'mostly sunny'\n",
    "surface.loc[surface['Sky'] == 'mosly sunny', 'Sky'] = 'mostly sunny'\n",
    "surface.loc[surface['Sky'].str.contains('rain'), 'Sky'] = 'rainy'\n",
    "surface.loc[surface['Sky'].str.contains('hazy'), 'Sky'] = 'hazy'\n",
    "surface.loc[surface['Sky'].str.contains('foggy'), 'Sky'] = 'foggy'\n",
    "surface.loc[surface['Sky'] == 'coudy', 'Sky'] = 'cloudy'\n",
    "surface.loc[surface['Sky'] == 'cloudy/little fog', 'Sky'] = 'cloudy'\n",
    "surface.loc[surface['Sky'] == '0.059027778', 'Sky'] = np.nan"
   ]
  },
  {
   "cell_type": "code",
   "execution_count": 19,
   "metadata": {},
   "outputs": [
    {
     "data": {
      "text/plain": [
       "<matplotlib.axes._subplots.AxesSubplot at 0x7f94c6b0ea00>"
      ]
     },
     "execution_count": 19,
     "metadata": {},
     "output_type": "execute_result"
    },
    {
     "data": {
      "image/png": "[encoded data removed]",
      "text/plain": [
       "<Figure size 432x288 with 1 Axes>"
      ]
     },
     "metadata": {
      "needs_background": "light"
     },
     "output_type": "display_data"
    }
   ],
   "source": [
    "surface['Sky'].value_counts().plot.bar()"
   ]
  },
  {
   "cell_type": "markdown",
   "metadata": {},
   "source": [
    "## Date Distribution and Completeness"
   ]
  },
  {
   "cell_type": "markdown",
   "metadata": {},
   "source": [
    "Let's take a look at the date distribution of the GLERL data by grouping by month and aggregating by measurement count for each quantity. The 'Site' column provides the total counts since it contains no null data. We can use it as a comparison for other quantities that do have some null entries."
   ]
  },
  {
   "cell_type": "code",
   "execution_count": 20,
   "metadata": {},
   "outputs": [],
   "source": [
    "def resampled_counts(df, datecol, resample='M', cols=None, figsize=(15,3),\n",
    "                       title=None, width=15, alpha=0.5, subplots=False):\n",
    "    \n",
    "    ''' Resamples a dataframe over a given timeframe, and plots counts of the columns as \n",
    "    overlapping bar charts. The datecol input must contain datetimes. The cols parameter \n",
    "    should be a list of columns.'''\n",
    "    \n",
    "    dfc = df.resample(resample, on=datecol).count()\n",
    "    idx = dfc.index\n",
    "    if cols == None:\n",
    "        cols = df.columns\n",
    "    fig, ax = plt.subplots(figsize=figsize)\n",
    "    for i, col in enumerate(cols):\n",
    "        ax.bar(idx, dfc[col], width=width, alpha=alpha, label=col, \n",
    "               color='C{0}'.format(i))\n",
    "    ax.xaxis_date()\n",
    "    ax.set_xlabel('Date')\n",
    "    ax.set_ylabel('Measurement Counts')\n",
    "    ax.legend(loc='best')\n",
    "    ax.set_title(title)"
   ]
  },
  {
   "cell_type": "code",
   "execution_count": 21,
   "metadata": {},
   "outputs": [
    {
     "data": {
      "image/png": "[encoded data removed]",
      "text/plain": [
       "<Figure size 1080x216 with 1 Axes>"
      ]
     },
     "metadata": {
      "needs_background": "light"
     },
     "output_type": "display_data"
    }
   ],
   "source": [
    "resampled_counts(surface, 'Date', cols=['Site'])"
   ]
  },
  {
   "cell_type": "markdown",
   "metadata": {},
   "source": [
    "First by looking at site only we can see that measurements are taken primarily during the summer months (May to September), with some earlier or later depending on the year. The majority of measurements are taken during the late summer (July - September). Also, there are more measurements for the 2015-2019 seasons compared to the 2012-2014 seasons.\n",
    "\n",
    "### Microcystin Date Distribution\n",
    "Next let's examine the date distribution and completeness of our target value, microcystin."
   ]
  },
  {
   "cell_type": "code",
   "execution_count": 22,
   "metadata": {
    "scrolled": true
   },
   "outputs": [
    {
     "data": {
      "image/png": "[encoded data removed]",
      "text/plain": [
       "<Figure size 1080x216 with 1 Axes>"
      ]
     },
     "metadata": {
      "needs_background": "light"
     },
     "output_type": "display_data"
    }
   ],
   "source": [
    "resampled_counts(surface, 'Date', alpha=0.3, cols=['Site', 'Particulate Microcystin (µg/L)'])"
   ]
  },
  {
   "cell_type": "code",
   "execution_count": 23,
   "metadata": {},
   "outputs": [
    {
     "data": {
      "image/png": "[encoded data removed]",
      "text/plain": [
       "<Figure size 1080x216 with 1 Axes>"
      ]
     },
     "metadata": {
      "needs_background": "light"
     },
     "output_type": "display_data"
    }
   ],
   "source": [
    "resampled_counts(surface, 'Date', alpha=0.3, cols=['Site', 'Dissolved Microcystin (µg/L)'])"
   ]
  },
  {
   "cell_type": "markdown",
   "metadata": {},
   "source": [
    "The particulate microcystin data is fairly complete, with most missing values located early in the season (March - May 2017 and April 2019). Dissolved microcystin data by contrast was not sampled until the middle of the 2014 season, after which it is mostly complete with some missing measurements in early 2017 and early 2019, similar to the particulate microcystin. This suggests that particulate microcystin might be a more complete target value if we intend to use the pre-2015 data. \n",
    "\n",
    "### Temperature Date Distribution\n",
    "The quantities that are expected to have the most impact on algae growth are water temperature and the presence of nutrients such as phosphorus- and nitrogen-containing compounds, so we will also examine their date distributions."
   ]
  },
  {
   "cell_type": "code",
   "execution_count": 24,
   "metadata": {
    "scrolled": true
   },
   "outputs": [
    {
     "data": {
      "image/png": "[encoded data removed]",
      "text/plain": [
       "<Figure size 1080x216 with 1 Axes>"
      ]
     },
     "metadata": {
      "needs_background": "light"
     },
     "output_type": "display_data"
    }
   ],
   "source": [
    "resampled_counts(surface, 'Date', alpha=0.3, cols=['Site', 'CTD Temperature (°C)'])"
   ]
  },
  {
   "cell_type": "markdown",
   "metadata": {},
   "source": [
    "The temperature data is fairly complete after 2013 with some missing values for Oct 2013, Sept 2014 and May 2018. Temperature moreso than some other quantities may be logically calculated from other data for that month. As an example let's take a look at the temperature data for Oct 2013 and Sept 2014."
   ]
  },
  {
   "cell_type": "code",
   "execution_count": 25,
   "metadata": {
    "scrolled": true
   },
   "outputs": [
    {
     "data": {
      "text/html": [
       "<div>\n",
       "<style scoped>\n",
       "    .dataframe tbody tr th:only-of-type {\n",
       "        vertical-align: middle;\n",
       "    }\n",
       "\n",
       "    .dataframe tbody tr th {\n",
       "        vertical-align: top;\n",
       "    }\n",
       "\n",
       "    .dataframe thead th {\n",
       "        text-align: right;\n",
       "    }\n",
       "</style>\n",
       "<table border=\"1\" class=\"dataframe\">\n",
       "  <thead>\n",
       "    <tr style=\"text-align: right;\">\n",
       "      <th></th>\n",
       "      <th>CTD Temperature (°C)</th>\n",
       "    </tr>\n",
       "  </thead>\n",
       "  <tbody>\n",
       "    <tr>\n",
       "      <th>count</th>\n",
       "      <td>7.000000</td>\n",
       "    </tr>\n",
       "    <tr>\n",
       "      <th>mean</th>\n",
       "      <td>14.785714</td>\n",
       "    </tr>\n",
       "    <tr>\n",
       "      <th>std</th>\n",
       "      <td>2.134189</td>\n",
       "    </tr>\n",
       "    <tr>\n",
       "      <th>min</th>\n",
       "      <td>12.100000</td>\n",
       "    </tr>\n",
       "    <tr>\n",
       "      <th>25%</th>\n",
       "      <td>13.100000</td>\n",
       "    </tr>\n",
       "    <tr>\n",
       "      <th>50%</th>\n",
       "      <td>15.100000</td>\n",
       "    </tr>\n",
       "    <tr>\n",
       "      <th>75%</th>\n",
       "      <td>16.250000</td>\n",
       "    </tr>\n",
       "    <tr>\n",
       "      <th>max</th>\n",
       "      <td>17.600000</td>\n",
       "    </tr>\n",
       "  </tbody>\n",
       "</table>\n",
       "</div>"
      ],
      "text/plain": [
       "       CTD Temperature (°C)\n",
       "count              7.000000\n",
       "mean              14.785714\n",
       "std                2.134189\n",
       "min               12.100000\n",
       "25%               13.100000\n",
       "50%               15.100000\n",
       "75%               16.250000\n",
       "max               17.600000"
      ]
     },
     "metadata": {},
     "output_type": "display_data"
    },
    {
     "data": {
      "text/html": [
       "<div>\n",
       "<style scoped>\n",
       "    .dataframe tbody tr th:only-of-type {\n",
       "        vertical-align: middle;\n",
       "    }\n",
       "\n",
       "    .dataframe tbody tr th {\n",
       "        vertical-align: top;\n",
       "    }\n",
       "\n",
       "    .dataframe thead th {\n",
       "        text-align: right;\n",
       "    }\n",
       "</style>\n",
       "<table border=\"1\" class=\"dataframe\">\n",
       "  <thead>\n",
       "    <tr style=\"text-align: right;\">\n",
       "      <th></th>\n",
       "      <th>CTD Temperature (°C)</th>\n",
       "    </tr>\n",
       "  </thead>\n",
       "  <tbody>\n",
       "    <tr>\n",
       "      <th>count</th>\n",
       "      <td>18.000000</td>\n",
       "    </tr>\n",
       "    <tr>\n",
       "      <th>mean</th>\n",
       "      <td>19.166667</td>\n",
       "    </tr>\n",
       "    <tr>\n",
       "      <th>std</th>\n",
       "      <td>1.038098</td>\n",
       "    </tr>\n",
       "    <tr>\n",
       "      <th>min</th>\n",
       "      <td>16.900000</td>\n",
       "    </tr>\n",
       "    <tr>\n",
       "      <th>25%</th>\n",
       "      <td>18.400000</td>\n",
       "    </tr>\n",
       "    <tr>\n",
       "      <th>50%</th>\n",
       "      <td>19.350000</td>\n",
       "    </tr>\n",
       "    <tr>\n",
       "      <th>75%</th>\n",
       "      <td>19.850000</td>\n",
       "    </tr>\n",
       "    <tr>\n",
       "      <th>max</th>\n",
       "      <td>20.900000</td>\n",
       "    </tr>\n",
       "  </tbody>\n",
       "</table>\n",
       "</div>"
      ],
      "text/plain": [
       "       CTD Temperature (°C)\n",
       "count             18.000000\n",
       "mean              19.166667\n",
       "std                1.038098\n",
       "min               16.900000\n",
       "25%               18.400000\n",
       "50%               19.350000\n",
       "75%               19.850000\n",
       "max               20.900000"
      ]
     },
     "metadata": {},
     "output_type": "display_data"
    }
   ],
   "source": [
    "months = surface['Date'].apply(lambda d: d.month)\n",
    "years = surface['Date'].apply(lambda d: d.year)\n",
    "display(surface[(months == 10) & (years == 2013)][['CTD Temperature (°C)']].describe())\n",
    "display(surface[(months == 9) & (years == 2014)][['CTD Temperature (°C)']].describe())"
   ]
  },
  {
   "cell_type": "markdown",
   "metadata": {},
   "source": [
    "The monthly standard deviation for temperature seems to be in the range of 1-2°C, so it should be reasonable to interpolate missing temperature data using the montly median, or an average of the two nearest dates. It is less clear how to handle the missing 2012 data. Let's see the variation in temperature for a given month from year to year."
   ]
  },
  {
   "cell_type": "code",
   "execution_count": 26,
   "metadata": {},
   "outputs": [
    {
     "data": {
      "image/png": "[encoded data removed]",
      "text/plain": [
       "<Figure size 1080x288 with 7 Axes>"
      ]
     },
     "metadata": {
      "needs_background": "light"
     },
     "output_type": "display_data"
    }
   ],
   "source": [
    "#July temps\n",
    "fig, ax = plt.subplots(1, 7, figsize=(15,4), sharey=True)\n",
    "for i, y in enumerate(range(2013, 2020)):\n",
    "    seaborn.boxplot(surface[(months == 7) & (years == y)]['CTD Temperature (°C)'], ax=ax[i], orient='v')\n",
    "    ax[i].set_title(y)"
   ]
  },
  {
   "cell_type": "code",
   "execution_count": 27,
   "metadata": {},
   "outputs": [
    {
     "data": {
      "image/png": "[encoded data removed]",
      "text/plain": [
       "<Figure size 1080x288 with 7 Axes>"
      ]
     },
     "metadata": {
      "needs_background": "light"
     },
     "output_type": "display_data"
    }
   ],
   "source": [
    "#May temps\n",
    "fig, ax = plt.subplots(1, 7, figsize=(15,4), sharey=True)\n",
    "for i, y in enumerate(range(2013, 2020)):\n",
    "    seaborn.boxplot(surface[(months == 5) & (years == y)]['CTD Temperature (°C)'], ax=ax[i], orient='v')\n",
    "    ax[i].set_title(y)"
   ]
  },
  {
   "cell_type": "code",
   "execution_count": 28,
   "metadata": {},
   "outputs": [
    {
     "data": {
      "image/png": "[encoded data removed]",
      "text/plain": [
       "<Figure size 1080x288 with 8 Axes>"
      ]
     },
     "metadata": {
      "needs_background": "light"
     },
     "output_type": "display_data"
    }
   ],
   "source": [
    "#August temps\n",
    "fig, ax = plt.subplots(1, 8, figsize=(15,4), sharey=True)\n",
    "for i, y in enumerate(range(2013, 2020)):\n",
    "    seaborn.boxplot(surface[(months == 5) & (years == y)]['CTD Temperature (°C)'], ax=ax[i], orient='v')\n",
    "    ax[i].set_title(y)"
   ]
  },
  {
   "cell_type": "markdown",
   "metadata": {},
   "source": [
    "There is quite a bit of variation in some monthly temperature distributions from year to year. As expected it does not seem accurate to base one year's temperature on another year's temperature, since we would expect that variation to be influential in explaining the difference in HAB formation from year to year. If we want to obtain temperature data for 2012 we should obtain it from other data sources.\n",
    "\n",
    "Let's fill in the missing temperature data for dates after 2012."
   ]
  },
  {
   "cell_type": "code",
   "execution_count": 29,
   "metadata": {},
   "outputs": [],
   "source": [
    "null_temps = surface[surface['CTD Temperature (°C)'].isnull()]\n",
    "for i in null_temps.index:\n",
    "    month = null_temps.loc[i, 'Date'].month\n",
    "    year = null_temps.loc[i, 'Date'].year\n",
    "    same_month = surface[~surface['CTD Temperature (°C)'].isnull() & \n",
    "                         (months == month) & (years == year)]\n",
    "    avg = same_month['CTD Temperature (°C)'].mean()\n",
    "    surface.loc[i, 'CTD Temperature (°C)'] = avg"
   ]
  },
  {
   "cell_type": "code",
   "execution_count": 30,
   "metadata": {},
   "outputs": [
    {
     "data": {
      "image/png": "[encoded data removed]",
      "text/plain": [
       "<Figure size 1080x216 with 1 Axes>"
      ]
     },
     "metadata": {
      "needs_background": "light"
     },
     "output_type": "display_data"
    }
   ],
   "source": [
    "resampled_counts(surface, 'Date', alpha=0.3, cols=['Site', 'CTD Temperature (°C)'])"
   ]
  },
  {
   "cell_type": "markdown",
   "metadata": {},
   "source": [
    "### Nitrogen and Phosphorus Date Distributions"
   ]
  },
  {
   "cell_type": "code",
   "execution_count": 31,
   "metadata": {},
   "outputs": [
    {
     "data": {
      "image/png": "[encoded data removed]",
      "text/plain": [
       "<Figure size 1080x216 with 1 Axes>"
      ]
     },
     "metadata": {
      "needs_background": "light"
     },
     "output_type": "display_data"
    },
    {
     "data": {
      "image/png": "[encoded data removed]",
      "text/plain": [
       "<Figure size 1080x216 with 1 Axes>"
      ]
     },
     "metadata": {
      "needs_background": "light"
     },
     "output_type": "display_data"
    },
    {
     "data": {
      "image/png": "[encoded data removed]",
      "text/plain": [
       "<Figure size 1080x216 with 1 Axes>"
      ]
     },
     "metadata": {
      "needs_background": "light"
     },
     "output_type": "display_data"
    }
   ],
   "source": [
    "resampled_counts(surface, 'Date', alpha=0.3, cols=['Site', 'Nitrate + Nitrite (mg N/L)'])\n",
    "resampled_counts(surface, 'Date', alpha=0.3, cols=['Site', 'Particulate Organic Nitrogen (mg/L)'])\n",
    "resampled_counts(surface, 'Date', alpha=0.3, cols=['Site', 'Ammonia (µg N/L)'])"
   ]
  },
  {
   "cell_type": "markdown",
   "metadata": {},
   "source": [
    "The nitrogen data is fairly consistent and complete across time. There seem to be some missing values in July 2013 and July 2019. "
   ]
  },
  {
   "cell_type": "code",
   "execution_count": 32,
   "metadata": {},
   "outputs": [
    {
     "data": {
      "image/png": "[encoded data removed]",
      "text/plain": [
       "<Figure size 1080x288 with 2 Axes>"
      ]
     },
     "metadata": {
      "needs_background": "light"
     },
     "output_type": "display_data"
    }
   ],
   "source": [
    "#July NOx data \n",
    "fig, ax = plt.subplots(2, 1, figsize=(15,4), sharex=True)\n",
    "plt.subplots_adjust(hspace=0.5)\n",
    "for i, y in enumerate([2013, 2019]):\n",
    "    seaborn.boxplot(surface[(months == 7) & (years == y)]['Nitrate + Nitrite (mg N/L)'], ax=ax[i], orient='h')\n",
    "    ax[i].set_title(y)"
   ]
  },
  {
   "cell_type": "markdown",
   "metadata": {},
   "source": [
    "There doesn't seem to be a reliable pattern by month for all samples here. Let's plot by date."
   ]
  },
  {
   "cell_type": "code",
   "execution_count": 33,
   "metadata": {},
   "outputs": [
    {
     "data": {
      "text/plain": [
       "<matplotlib.axes._subplots.AxesSubplot at 0x7f94cc51d2b0>"
      ]
     },
     "execution_count": 33,
     "metadata": {},
     "output_type": "execute_result"
    },
    {
     "data": {
      "image/png": "[encoded data removed]",
      "text/plain": [
       "<Figure size 432x288 with 1 Axes>"
      ]
     },
     "metadata": {
      "needs_background": "light"
     },
     "output_type": "display_data"
    },
    {
     "data": {
      "image/png": "[encoded data removed]",
      "text/plain": [
       "<Figure size 432x288 with 1 Axes>"
      ]
     },
     "metadata": {
      "needs_background": "light"
     },
     "output_type": "display_data"
    }
   ],
   "source": [
    "#Scatterplots of NOx by date for Jul 2013 and 2019\n",
    "surface[(months == 7) & (years == 2013)].plot(kind='scatter', x='Date', y='Nitrate + Nitrite (mg N/L)', rot=90)\n",
    "surface[(months == 7) & (years == 2019)].plot(kind='scatter', x='Date', y='Nitrate + Nitrite (mg N/L)', rot=90)"
   ]
  },
  {
   "cell_type": "markdown",
   "metadata": {},
   "source": [
    "There does not seem to be a reliable pattern here - these values likely depend strongly on location. Unless we first aggregate within a coordinate grid we will likely have to drop the null values."
   ]
  },
  {
   "cell_type": "code",
   "execution_count": 34,
   "metadata": {
    "scrolled": true
   },
   "outputs": [
    {
     "data": {
      "image/png": "[encoded data removed]",
      "text/plain": [
       "<Figure size 1080x216 with 1 Axes>"
      ]
     },
     "metadata": {
      "needs_background": "light"
     },
     "output_type": "display_data"
    },
    {
     "data": {
      "image/png": "[encoded data removed]",
      "text/plain": [
       "<Figure size 1080x216 with 1 Axes>"
      ]
     },
     "metadata": {
      "needs_background": "light"
     },
     "output_type": "display_data"
    },
    {
     "data": {
      "image/png": "[encoded data removed]",
      "text/plain": [
       "<Figure size 1080x216 with 1 Axes>"
      ]
     },
     "metadata": {
      "needs_background": "light"
     },
     "output_type": "display_data"
    }
   ],
   "source": [
    "resampled_counts(surface, 'Date', alpha=0.3, cols=['Site', 'Total Phosphorus (µg P/L)'])\n",
    "resampled_counts(surface, 'Date', alpha=0.3, cols=['Site', 'Total Dissolved Phosphorus (µg P/L)'])\n",
    "resampled_counts(surface, 'Date', alpha=0.3, cols=['Site', 'Soluble Reactive Phosphorus (µg P/L)'])"
   ]
  },
  {
   "cell_type": "markdown",
   "metadata": {},
   "source": [
    "The phosphorus data is fairly complete and consistent across time, similar to the nitrogen data."
   ]
  },
  {
   "cell_type": "markdown",
   "metadata": {},
   "source": [
    "## Value Distributions"
   ]
  },
  {
   "cell_type": "markdown",
   "metadata": {},
   "source": [
    "### Microcystin"
   ]
  },
  {
   "cell_type": "code",
   "execution_count": 35,
   "metadata": {},
   "outputs": [],
   "source": [
    "def hist_zoom(df, col, cutoff=None, bins=None):\n",
    "    ''' Displays a histogram of an entire column next to a histogram of all values below a \n",
    "    certain cutoff. If no cutoff is specified only the total histogram is shown.'''\n",
    "    if cutoff == None:\n",
    "        figsize=(15,3)\n",
    "        plt.hist(df[col], bins=bins)\n",
    "        plt.title(col)\n",
    "    else:\n",
    "        fig, ax = plt.subplots(1, 2, figsize=(15,3))\n",
    "        ax[0].hist(df[col], bins=bins)\n",
    "        ax[0].set_title('Total Distribution')\n",
    "        filter_df = df[df[col] < cutoff]\n",
    "        ax[1].hist(filter_df[col], bins=bins)\n",
    "        ax[1].set_title('Partial Distribution - Zoom')\n",
    "        fig.suptitle(col, fontsize=14)"
   ]
  },
  {
   "cell_type": "code",
   "execution_count": 36,
   "metadata": {},
   "outputs": [
    {
     "name": "stderr",
     "output_type": "stream",
     "text": [
      "/Users/melanierbutler/opt/anaconda3/lib/python3.8/site-packages/numpy/lib/histograms.py:839: RuntimeWarning: invalid value encountered in greater_equal\n",
      "  keep = (tmp_a >= first_edge)\n",
      "/Users/melanierbutler/opt/anaconda3/lib/python3.8/site-packages/numpy/lib/histograms.py:840: RuntimeWarning: invalid value encountered in less_equal\n",
      "  keep &= (tmp_a <= last_edge)\n"
     ]
    },
    {
     "data": {
      "image/png": "[encoded data removed]",
      "text/plain": [
       "<Figure size 1080x216 with 2 Axes>"
      ]
     },
     "metadata": {
      "needs_background": "light"
     },
     "output_type": "display_data"
    }
   ],
   "source": [
    "hist_zoom(surface, 'Particulate Microcystin (µg/L)', 10, bins=20)"
   ]
  },
  {
   "cell_type": "code",
   "execution_count": 37,
   "metadata": {},
   "outputs": [
    {
     "data": {
      "image/png": "[encoded data removed]",
      "text/plain": [
       "<Figure size 1080x216 with 2 Axes>"
      ]
     },
     "metadata": {
      "needs_background": "light"
     },
     "output_type": "display_data"
    }
   ],
   "source": [
    "hist_zoom(surface, 'Dissolved Microcystin (µg/L)', 2)"
   ]
  },
  {
   "cell_type": "markdown",
   "metadata": {},
   "source": [
    "Both particulate and dissolved microcystin have most values clustered at zero, with long tail to the right. Particulate microcystin tends to have higher values than dissolved microcystin, which is simply a property of microcystin's solubility. In terms of reference values for microcystin, the Ohio EPA has a drinking level limit of 1.6 ug/L, a recreational limit of 6 ug/L for swimming and a strict no contact advisory for levels over 20 ug/L. There appear to be a few hundred samples with particulate microcystin levels over the drinking limit.\n",
    "\n",
    "### Nitrogen, Nitrites and Nitrates (NOx)"
   ]
  },
  {
   "cell_type": "code",
   "execution_count": 38,
   "metadata": {
    "scrolled": true
   },
   "outputs": [
    {
     "data": {
      "image/png": "[encoded data removed]",
      "text/plain": [
       "<Figure size 1080x216 with 2 Axes>"
      ]
     },
     "metadata": {
      "needs_background": "light"
     },
     "output_type": "display_data"
    }
   ],
   "source": [
    "hist_zoom(surface, 'Particulate Organic Nitrogen (mg/L)', 1)"
   ]
  },
  {
   "cell_type": "code",
   "execution_count": 39,
   "metadata": {
    "scrolled": true
   },
   "outputs": [
    {
     "data": {
      "image/png": "[encoded data removed]",
      "text/plain": [
       "<Figure size 1080x216 with 2 Axes>"
      ]
     },
     "metadata": {
      "needs_background": "light"
     },
     "output_type": "display_data"
    }
   ],
   "source": [
    "hist_zoom(surface, 'Nitrate + Nitrite (mg N/L)', 1)"
   ]
  },
  {
   "cell_type": "code",
   "execution_count": 40,
   "metadata": {
    "scrolled": true
   },
   "outputs": [
    {
     "data": {
      "image/png": "[encoded data removed]",
      "text/plain": [
       "<Figure size 1080x216 with 2 Axes>"
      ]
     },
     "metadata": {
      "needs_background": "light"
     },
     "output_type": "display_data"
    }
   ],
   "source": [
    "hist_zoom(surface, 'Ammonia (µg N/L)', 20)"
   ]
  },
  {
   "cell_type": "markdown",
   "metadata": {},
   "source": [
    "All forms of nitrogen have a long right tail. In the Great Lakes algal growth is commonly thought to be phosphorus-limited, that is there is usually enough nitrogen to support the start of a bloom, but once the bloom begins and starts consuming the available nitrogen its growth may become nitrogen-limited. There is some debate as to whether reducing nitrogen levels in Lake Erie would be beneficial. <a href='https://www.umass.edu/mwwp/resources/factsheets.html'>UMass Amherst</a> suggests that if inorganic forms of nitrogen, including nitrate and ammonium (NH4+) exceed 0.3 mg/l in the spring then there is sufficient nitrogen to support a bloom come summer. We can clearly see there is a long tail of nitrate and nitrite above 0.3 mg/L. "
   ]
  },
  {
   "cell_type": "markdown",
   "metadata": {},
   "source": [
    "### Phosphorus-containing Compounds"
   ]
  },
  {
   "cell_type": "code",
   "execution_count": 41,
   "metadata": {},
   "outputs": [
    {
     "data": {
      "image/png": "[encoded data removed]",
      "text/plain": [
       "<Figure size 1080x216 with 2 Axes>"
      ]
     },
     "metadata": {
      "needs_background": "light"
     },
     "output_type": "display_data"
    }
   ],
   "source": [
    "hist_zoom(surface, 'Total Phosphorus (µg P/L)', 200)"
   ]
  },
  {
   "cell_type": "code",
   "execution_count": 42,
   "metadata": {},
   "outputs": [
    {
     "data": {
      "image/png": "[encoded data removed]",
      "text/plain": [
       "<Figure size 1080x216 with 2 Axes>"
      ]
     },
     "metadata": {
      "needs_background": "light"
     },
     "output_type": "display_data"
    }
   ],
   "source": [
    "hist_zoom(surface, 'Total Dissolved Phosphorus (µg P/L)', 25)"
   ]
  },
  {
   "cell_type": "code",
   "execution_count": 43,
   "metadata": {
    "scrolled": true
   },
   "outputs": [
    {
     "data": {
      "image/png": "[encoded data removed]",
      "text/plain": [
       "<Figure size 1080x216 with 2 Axes>"
      ]
     },
     "metadata": {
      "needs_background": "light"
     },
     "output_type": "display_data"
    }
   ],
   "source": [
    "hist_zoom(surface, 'Soluble Reactive Phosphorus (µg P/L)', 10)"
   ]
  },
  {
   "cell_type": "markdown",
   "metadata": {},
   "source": [
    "The phosphorus distribution also has a long right tail. Total phosphorus is clustered around the 5-70 ug/L range, while total dissolved has its peak around 3-8 ug/L and soluble reactive phosphorus is around 0.5-1 ug/L. The <a href='https://www.epa.gov/sites/production/files/2015-10/documents/status-nutrients-lake-erie-basin-2010-42pp.pdf'>2008 Lake Erie Management Plan</a> cited a desired ecological endpoint of <15 ug/L of total phosphorus for the Western Basin of the lake, as an annual average. "
   ]
  },
  {
   "cell_type": "markdown",
   "metadata": {},
   "source": [
    "## Conductivity-Temperature-Depth (CTD) Measurements"
   ]
  },
  {
   "cell_type": "code",
   "execution_count": 44,
   "metadata": {},
   "outputs": [
    {
     "data": {
      "image/png": "[encoded data removed]",
      "text/plain": [
       "<Figure size 432x288 with 1 Axes>"
      ]
     },
     "metadata": {
      "needs_background": "light"
     },
     "output_type": "display_data"
    }
   ],
   "source": [
    "hist_zoom(surface, 'CTD Temperature (°C)')"
   ]
  },
  {
   "cell_type": "markdown",
   "metadata": {},
   "source": [
    "The temperature distribution is left-skewed which is interesting, but logical due to the fact that most measurements are taken during the summer months, and therefore warmer temperatures. It is also logical that there seems to be a sharp drop above 26°C due to the nature of evaporative cooling. Once a certain temperature is reached (25 to 30°C) it takes a larger energetic input to raise the lake temperature due to increase evaporation and cooling. "
   ]
  },
  {
   "cell_type": "code",
   "execution_count": 45,
   "metadata": {
    "scrolled": true
   },
   "outputs": [
    {
     "data": {
      "image/png": "[encoded data removed]",
      "text/plain": [
       "<Figure size 432x288 with 1 Axes>"
      ]
     },
     "metadata": {
      "needs_background": "light"
     },
     "output_type": "display_data"
    }
   ],
   "source": [
    "hist_zoom(surface, 'CTD Specific Conductivity (µS/cm)')"
   ]
  },
  {
   "cell_type": "markdown",
   "metadata": {},
   "source": [
    "From the <a href='https://archive.epa.gov/water/archive/web/html/vms59.html#:~:text=The%20basic%20unit%20of%20measurement,0.5%20to%203%20%C2%B5mhos%2Fcm.'>EPA website</a>: \"Distilled water has a conductivity in the range of 0.5 to 3 µmhos/cm. The conductivity of rivers in the United States generally ranges from 50 to 1500 µmhos/cm. Studies of inland fresh waters indicate that streams supporting good mixed fisheries have a range between 150 and 500 µmhos/cm. Conductivity outside this range could indicate that the water is not suitable for certain species of fish or macroinvertebrates. Industrial waters can range as high as 10,000 µmhos/cm.\"\n",
    "\n",
    "It seems these values are all possible, with the bulk of them within the more expected range of 200 to 400 umhos/cm."
   ]
  },
  {
   "cell_type": "code",
   "execution_count": 46,
   "metadata": {},
   "outputs": [
    {
     "data": {
      "image/png": "[encoded data removed]",
      "text/plain": [
       "<Figure size 432x288 with 1 Axes>"
      ]
     },
     "metadata": {
      "needs_background": "light"
     },
     "output_type": "display_data"
    }
   ],
   "source": [
    "hist_zoom(surface, 'CTD Dissolved Oxygen (mg/L)')"
   ]
  },
  {
   "cell_type": "code",
   "execution_count": 42,
   "metadata": {},
   "outputs": [
    {
     "data": {
      "text/plain": [
       "Index(['Date', 'Site', 'Station Depth (m)', 'Sample Depth (m)',\n",
       "       'Sample Depth (category)', 'Local Time (Eastern Time Zone)',\n",
       "       'Latitude (decimal deg)', 'Longitude (decimal deg)',\n",
       "       'Wind speed (knots)', 'Wave Height (ft)', 'Sky', 'Secchi Depth (m)',\n",
       "       'CTD Temperature (°C)', 'CTD Specific Conductivity (µS/cm)',\n",
       "       'CTD Beam Attenuation (m-1)', 'CTD Tramission (%)',\n",
       "       'CTD Dissolved Oxygen (mg/L)',\n",
       "       'CTD Photosynthetically Active Radiation (µE/m2/s)', 'Turbidity (NTU)',\n",
       "       'Particulate Microcystin (µg/L)', 'Dissolved Microcystin (µg/L)',\n",
       "       'Extracted Phycocyanin (µg/L)', 'Extracted Chlorophyll a (µg/L)',\n",
       "       'Total Phosphorus (µg P/L)', 'Total Dissolved Phosphorus (µg P/L)',\n",
       "       'Soluble Reactive Phosphorus (µg P/L)', 'Ammonia (µg N/L)',\n",
       "       'Nitrate + Nitrite (mg N/L)', 'Particulate Organic Carbon (mg/L)',\n",
       "       'Particulate Organic Nitrogen (mg/L)',\n",
       "       'Colored Dissolved Organic Material absorbance (m-1) at 400nm ',\n",
       "       'Total Suspended Solids (mg/L)', 'Volatile Suspended Solids (mg/L)'],\n",
       "      dtype='object')"
      ]
     },
     "execution_count": 42,
     "metadata": {},
     "output_type": "execute_result"
    }
   ],
   "source": [
    "surface.columns"
   ]
  },
  {
   "cell_type": "code",
   "execution_count": null,
   "metadata": {},
   "outputs": [],
   "source": []
  }
 ],
 "metadata": {
  "kernelspec": {
   "display_name": "Python 3",
   "language": "python",
   "name": "python3"
  },
  "language_info": {
   "codemirror_mode": {
    "name": "ipython",
    "version": 3
   },
   "file_extension": ".py",
   "mimetype": "text/x-python",
   "name": "python",
   "nbconvert_exporter": "python",
   "pygments_lexer": "ipython3",
   "version": "3.8.3"
  }
 },
 "nbformat": 4,
 "nbformat_minor": 4
}
